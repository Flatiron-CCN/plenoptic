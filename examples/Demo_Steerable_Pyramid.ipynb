{
 "cells": [
  {
   "cell_type": "markdown",
   "id": "further-drive",
   "metadata": {},
   "source": [
    "# Steerable Pyramid Demo\n"
   ]
  },
  {
   "cell_type": "code",
   "execution_count": 1,
   "id": "fantastic-syria",
   "metadata": {
    "tags": []
   },
   "outputs": [],
   "source": [
    "import numpy as np\n",
    "import torch\n",
    "import torchvision\n",
    "import torchvision.transforms as transforms\n",
    "import torch.nn.functional as F\n",
    "from torchvision.utils import make_grid\n",
    "from torch import nn\n",
    "import matplotlib.pyplot as plt\n",
    "\n",
    "import pyrtools as pt\n",
    "import plenoptic as po\n",
    "from plenoptic.tools.signal import rcosFn, pointOp\n",
    "%matplotlib inline\n",
    "\n",
    "from plenoptic.simulate import Steerable_Pyramid_Freq\n",
    "from plenoptic.synthesize import Eigendistortion\n",
    "from plenoptic.tools.display import convert_pyrshow\n",
    "\n",
    "dtype = torch.float32\n",
    "device = torch.device(\"cuda\" if torch.cuda.is_available() else \"cpu\")\n",
    "\n",
    "%load_ext autoreload\n",
    "\n",
    "%autoreload 2"
   ]
  },
  {
   "cell_type": "markdown",
   "id": "dress-waterproof",
   "metadata": {},
   "source": [
    "Steerable Pyramids decompose an image into several bands with each corresponding to a particular orientation and spatial scale. This can be thought of as (invertible) feature extraction using the filters visualized below. For more details on steerable pyramids in general and how they are built, see the pyrtools tutorial at: https://pyrtools.readthedocs.io/en/latest/. Additionally for more about the specifics of the plenoptic pytorch implementation of the steerable pyramid and its basic features see https://github.com/LabForComputationalVision/plenoptic/blob/master/examples/03_Steerable_Pyramid.ipynb.\n",
    "\n",
    "This demo will walk through an example use of a steerable pyramid as a front end for a convolutional network trained on a classification task, and then probe how the use of the pyramid can effect the learned representation. "
   ]
  },
  {
   "cell_type": "code",
   "execution_count": 2,
   "id": "confirmed-convention",
   "metadata": {},
   "outputs": [
    {
     "name": "stderr",
     "output_type": "stream",
     "text": [
      "/Users/tyerxa/repos/plenoptic/plenoptic/simulate/canonical_computations/steerable_pyramid_freq.py:725: UserWarning: Casting complex values to real discards the imaginary part (Triggered internally at  /Users/distiller/project/conda/conda-bld/pytorch_1614378044816/work/aten/src/ATen/native/Copy.cpp:219.)\n",
      "  resdft[:, :, lostart[0]:loend[0], lostart[1]:loend[1]] = reslevdft*lomask\n"
     ]
    },
    {
     "data": {
      "image/png": "[encoded data removed]",
      "text/plain": [
       "<PyrFigure size 286x350 with 16 Axes>"
      ]
     },
     "metadata": {},
     "output_type": "display_data"
    }
   ],
   "source": [
    "order = 3\n",
    "imsize = 64\n",
    "pyr = Steerable_Pyramid_Freq(height=3,image_shape=[imsize,imsize],order=order,is_complex = False,twidth=1, downsample=False)\n",
    "pyr.to(device)\n",
    "empty_image = torch.zeros((1,1,imsize,imsize),dtype=dtype).to(device)\n",
    "pyr_coeffs = pyr.forward(empty_image)\n",
    "\n",
    "for k,v in pyr.pyr_size.items():\n",
    "    mid = (v[0]//2, v[1]//2)\n",
    "    pyr_coeffs[k][0,0,mid[0],mid[1]]=1\n",
    "\n",
    "reconList = []\n",
    "for k in pyr_coeffs.keys():\n",
    "    if isinstance(k, tuple):\n",
    "        reconList.append(pyr.recon_pyr(pyr_coeffs, k[0], k[1]).real)\n",
    "    else:\n",
    "        reconList.append(pyr.recon_pyr(pyr_coeffs, k).real)\n",
    "        \n",
    "po.imshow(reconList, col_wrap=order+1, vrange='indep1', zoom=1);"
   ]
  },
  {
   "cell_type": "markdown",
   "id": "hollywood-elite",
   "metadata": {},
   "source": [
    "\\* Note: The plenoptic implementation of steerable pyramid is defined in the frequency domain, not the spatial domain. This is why to visualize the filters we invert (map from pyramid domain back to image domain) an impulse placed in each band."
   ]
  },
  {
   "cell_type": "markdown",
   "id": "fluid-portfolio",
   "metadata": {},
   "source": [
    "## Using the Steerable Pyramid as a fixed front end for a classification task"
   ]
  },
  {
   "cell_type": "markdown",
   "id": "unnecessary-mumbai",
   "metadata": {},
   "source": [
    "While similar decompositions often are learned in the early stages of deepnets trained on computer vision tasks, using a steerable pyramid as a front end offers more theoretical guarantees and can reduce the number of learned parameters required for a given task. Below we train two models on the FashionMNIST dataset, one with and one without a steerable pyramid front end."
   ]
  },
  {
   "cell_type": "code",
   "execution_count": 3,
   "id": "studied-breast",
   "metadata": {},
   "outputs": [],
   "source": [
    "# First we define/download the dataset\n",
    "train_set = torchvision.datasets.FashionMNIST(\n",
    "    root = './data/FashionMNIST',\n",
    "    train = True,\n",
    "    download = True,\n",
    "    transform = transforms.Compose([\n",
    "        transforms.ToTensor()                                 \n",
    "    ])\n",
    ")"
   ]
  },
  {
   "cell_type": "code",
   "execution_count": 4,
   "id": "occupational-andrews",
   "metadata": {},
   "outputs": [],
   "source": [
    "# Define a simple model: SteerPyr --> ConvLayer --> Fully Connected\n",
    "class PyrConvFull(nn.Module):\n",
    "    def __init__(self, imshape, order, scales, kernel_size, exclude = [], output_dim = 10, is_complex = True):\n",
    "        super(PyrConvFull, self).__init__()\n",
    "        \n",
    "        self.imshape = imshape\n",
    "        self.order = order\n",
    "        self.scales = scales\n",
    "        self.output_dim = output_dim\n",
    "        self.kernel_size = kernel_size\n",
    "        self.exclude = exclude\n",
    "        self.is_complex = is_complex\n",
    "        \n",
    "        self.rect = nn.ReLU()\n",
    "        self.pyr = Steerable_Pyramid_Freq(height=self.scales,image_shape=self.imshape,\n",
    "                                          order=self.order,is_complex = self.is_complex,twidth=1, downsample=False)\n",
    "        \n",
    "        #channels number of scales * number of orientations * 2 (for the real/imag)\n",
    "        self.pyr_channels = (self.order+1)*self.scales\n",
    "        self.conv = nn.Conv2d(in_channels = self.pyr_channels*2,kernel_size = self.kernel_size, \n",
    "                              out_channels= self.output_dim, stride = 2)\n",
    "        output_size = ((self.imshape[0] - self.kernel_size) / 2 + 1) ** 2\n",
    "        n_feats = int(output_size * self.output_dim)\n",
    "        self.fc = nn.Linear(in_features=n_feats, out_features=10)\n",
    "        \n",
    "    def forward(self, x):\n",
    "        out = self.pyr(x)\n",
    "        out = self.pyr.convert_pyr_to_tensor(out)\n",
    "        # first and last channels are the residuals, so drop them\n",
    "        out = out[:, 1:-1]\n",
    "        \n",
    "        # split to real and imaginary so nonlinearities make sense\n",
    "        out_re = self.rect(out.imag)\n",
    "        out_im = self.rect(out.real)\n",
    "        \n",
    "        # concatenate\n",
    "        out = torch.cat([out_re, out_im], dim=1)\n",
    "            \n",
    "        out = self.conv(out)\n",
    "        out = self.rect(out)\n",
    "        out = out.view(out.shape[0], -1) # reshape for linear layer\n",
    "        out = self.fc(out)\n",
    "\n",
    "        return out\n",
    "    \n",
    "# Define a simple alternative: ConvLayer--> Fully Connected\n",
    "class ConvFull(nn.Module):\n",
    "    def __init__(self, imshape, order, scales, kernel_size, output_dim=5):\n",
    "        super(ConvFull, self).__init__()\n",
    "        \n",
    "        self.imshape = imshape\n",
    "        self.output_dim = output_dim\n",
    "        self.kernel_size = kernel_size\n",
    "        \n",
    "        self.rect = nn.ReLU()\n",
    "        \n",
    "        \n",
    "        self.conv = nn.Conv2d(in_channels=1,kernel_size=self.kernel_size, \n",
    "                              out_channels=self.output_dim, stride = 2)\n",
    "        \n",
    "        output_size = ((self.imshape[0] - self.kernel_size) / 2 + 1) ** 2\n",
    "        n_feats = int(output_size * self.output_dim)\n",
    "        self.fc = nn.Linear(in_features=n_feats, out_features=10)\n",
    "        \n",
    "    def forward(self, x):\n",
    "        \n",
    "        out = self.conv(x)\n",
    "        out = self.rect(out)\n",
    "        out = out.view(out.shape[0], -1) # reshape for linear layer\n",
    "        out = self.fc(out) \n",
    "\n",
    "        return out"
   ]
  },
  {
   "cell_type": "code",
   "execution_count": 5,
   "id": "fewer-restaurant",
   "metadata": {},
   "outputs": [
    {
     "data": {
      "text/plain": [
       "Text(0, 0.5, 'Classification Performance')"
      ]
     },
     "execution_count": 5,
     "metadata": {},
     "output_type": "execute_result"
    },
    {
     "data": {
      "image/png": "[encoded data removed]",
      "text/plain": [
       "<Figure size 720x360 with 2 Axes>"
      ]
     },
     "metadata": {
      "needs_background": "light"
     },
     "output_type": "display_data"
    }
   ],
   "source": [
    "# Training\n",
    "model_pyr = PyrConvFull([28, 28], order=4, scales=2, kernel_size=6, output_dim=3)\n",
    "loader = torch.utils.data.DataLoader(train_set, batch_size = 50)\n",
    "optimizer = torch.optim.Adam(model_pyr.parameters(), lr=1e-3)\n",
    "\n",
    "\n",
    "epoch = 2\n",
    "losses = []\n",
    "fracts_correct = []\n",
    "for e in range(epoch):\n",
    "    for batch in loader:\n",
    "        images = batch[0]\n",
    "        labels = batch[1]\n",
    "        preds = model_pyr(images)\n",
    "        loss = F.cross_entropy(preds, labels)\n",
    "\n",
    "        optimizer.zero_grad()\n",
    "        loss.backward()\n",
    "        optimizer.step()\n",
    "        \n",
    "        losses.append(loss.item())\n",
    "        \n",
    "        n_correct = preds.argmax(dim=1).eq(labels).sum().item()\n",
    "        fracts_correct.append(n_correct / 50)\n",
    "  \n",
    "fig, axs = plt.subplots(1, 2, figsize=(10, 5))     \n",
    "axs[0].plot(losses)\n",
    "axs[0].set_xlabel('Iteration')\n",
    "axs[0].set_ylabel('Cross Entropy Loss')\n",
    "axs[1].plot(fracts_correct)\n",
    "axs[1].set_xlabel('Iteration')\n",
    "axs[1].set_ylabel('Classification Performance')"
   ]
  },
  {
   "cell_type": "code",
   "execution_count": null,
   "id": "transsexual-meditation",
   "metadata": {},
   "outputs": [],
   "source": [
    "# Training\n",
    "model_no_pyr = ConvFull([28, 28], order=4, scales=2, kernel_size=6, output_dim=60)\n",
    "loader = torch.utils.data.DataLoader(train_set, batch_size = 50)\n",
    "optimizer = torch.optim.Adam(model_no_pyr.parameters(), lr=1e-3)\n",
    "\n",
    "\n",
    "epoch = 2\n",
    "losses = []\n",
    "fracts_correct = []\n",
    "for e in range(epoch):\n",
    "    for batch in loader:\n",
    "        images = batch[0]\n",
    "        labels = batch[1]\n",
    "        preds = model_no_pyr(images)\n",
    "        loss = F.cross_entropy(preds, labels)\n",
    "\n",
    "        optimizer.zero_grad()\n",
    "        loss.backward()\n",
    "        optimizer.step()\n",
    "        \n",
    "        losses.append(loss.item())\n",
    "        \n",
    "        n_correct = preds.argmax(dim=1).eq(labels).sum().item()\n",
    "        fracts_correct.append(n_correct / 50)\n",
    "        \n",
    "fig, axs = plt.subplots(1, 2, figsize=(10, 5))     \n",
    "axs[0].plot(losses)\n",
    "axs[0].set_xlabel('Iteration')\n",
    "axs[0].set_ylabel('Cross Entropy Loss')\n",
    "axs[1].plot(fracts_correct)\n",
    "axs[1].set_xlabel('Iteration')\n",
    "axs[1].set_ylabel('Classification Performance')"
   ]
  },
  {
   "cell_type": "code",
   "execution_count": null,
   "id": "dietary-complement",
   "metadata": {},
   "outputs": [],
   "source": [
    "# Feature Visualization\n",
    "conv_weights = model_pyr.conv.weight.detach().view(-1, 1, 6, 6)\n",
    "conv_weights = make_grid(conv_weights, normalize=True, scale_each=True)\n",
    "conv_weights = conv_weights.numpy()\n",
    "conv_weights_pyr = np.transpose(conv_weights, (1, 2, 0))\n",
    "\n",
    "conv_weights = model_no_pyr.conv.weight.detach().view(-1, 1, 6, 6)\n",
    "conv_weights = make_grid(conv_weights, normalize=True, scale_each=True)\n",
    "conv_weights = conv_weights.numpy()\n",
    "conv_weights_no_pyr = np.transpose(conv_weights, (1, 2, 0))\n",
    "\n",
    "fig, axs = plt.subplots(1, 2, figsize=(10, 5))\n",
    "axs[0].imshow(conv_weights_pyr, cmap='gray')\n",
    "axs[0].set_title('Filters Learned on Top of Steerable Pyramid')\n",
    "axs[1].imshow(conv_weights_no_pyr, cmap='gray')\n",
    "axs[1].set_title('Filters Learned Directly From Data')"
   ]
  },
  {
   "cell_type": "markdown",
   "id": "double-bunny",
   "metadata": {},
   "source": [
    "NOTE: These are not directly comparable. The convolutional filters learned on top of the pyramid operate on several (in this case 20) input channels, while those learned on the data operate on a single input channels. Therefore the first 20 kernels shown in the left plot are really *channel wise slices of the same filter*, while each kernel displayed on the right plot is entirely distinct."
   ]
  },
  {
   "cell_type": "markdown",
   "id": "constitutional-withdrawal",
   "metadata": {},
   "source": [
    "## Probing the effect of the Steerable Pyramid using Eigendistortions\n",
    "\n",
    "Eigendistortions provide a way to determine the perturbations a given model is most or least sensitive to. For an introduction to Eigendistortions see here https://github.com/LabForComputationalVision/plenoptic/blob/master/examples/02_Eigendistortions.ipynb or here https://github.com/LabForComputationalVision/plenoptic/blob/master/examples/Demo_Eigendistortion.ipynb. \n",
    "\n",
    "Though both models above were trained to relatively similar cross entropy loss and classification performatnc, one might expect the pyramid model to be sensitive to changes in a more \"human-like,\" way, as the design of the steerable pyramid is roughly inspired by the early primate visual system."
   ]
  },
  {
   "cell_type": "code",
   "execution_count": null,
   "id": "aquatic-volunteer",
   "metadata": {},
   "outputs": [],
   "source": [
    "# a sample image\n",
    "fmnist_im = images[4, :, :]\n",
    "fmnist_im = fmnist_im.unsqueeze(0)\n",
    "\n",
    "# initialize distortion synthesizers\n",
    "eigendist_pyr = Eigendistortion(base_signal=fmnist_im, model=model_pyr)\n",
    "eigendist_no_pyr = Eigendistortion(base_signal=fmnist_im, model=model_no_pyr)\n",
    "\n",
    "# synthesize distortions\n",
    "distortions_pyr, eigenvals_pyr, eigenind_pyr = eigendist_pyr.synthesize(k=3, method='power', max_steps=2000)\n",
    "distortions_no_pyr, eigenvals_no_pyr, eigenind_no_pyr = eigendist_no_pyr.synthesize(k=3, method='power', max_steps=2000)"
   ]
  },
  {
   "cell_type": "code",
   "execution_count": null,
   "id": "actual-harrison",
   "metadata": {},
   "outputs": [],
   "source": [
    "po.imshow(distortions_pyr[[0,-1]].mean(1, keepdim=True), vrange='auto1',\n",
    "          title=[\"most-noticeable distortion\", \"least-noticeable\"], zoom=10)\n",
    "\n",
    "alpha_max, alpha_min = 3., 4.\n",
    "\n",
    "f_max = eigendist_pyr.plot_distorted_image(eigen_index=0, alpha=alpha_max, title=f'img + {alpha_max} * max_dist',\n",
    "                                           zoom=10)\n",
    "f_min = eigendist_pyr.plot_distorted_image(eigen_index=-1, alpha=alpha_min, title=f'img + {alpha_min} * min_dist',\n",
    "                                           zoom=10)"
   ]
  },
  {
   "cell_type": "code",
   "execution_count": null,
   "id": "billion-ultimate",
   "metadata": {},
   "outputs": [],
   "source": [
    "\n",
    "po.imshow(distortions_no_pyr[[0,-1]].mean(1, keepdim=True), vrange='auto1',\n",
    "          title=[\"most-noticeable distortion\", \"least-noticeable\"], zoom=10)\n",
    "\n",
    "alpha_max, alpha_min = 3., 4.\n",
    "f_max = eigendist_no_pyr.plot_distorted_image(eigen_index=0, alpha=alpha_max, title=f'img + {alpha_max} * max_dist',\n",
    "                                              zoom=10)\n",
    "f_min = eigendist_no_pyr.plot_distorted_image(eigen_index=-1, alpha=alpha_min, title=f'img + {alpha_min} * min_dist', \n",
    "                                              zoom=10)"
   ]
  },
  {
   "cell_type": "markdown",
   "id": "seasonal-glossary",
   "metadata": {},
   "source": [
    "Without a psychophysical experiment there's no way to declare one model is more or less human-like in terms of the perturbations it is most/least sensitive too, but you are free to draw your own conclusions! "
   ]
  }
 ],
 "metadata": {
  "kernelspec": {
   "display_name": "Python 3",
   "language": "python",
   "name": "python3"
  },
  "language_info": {
   "codemirror_mode": {
    "name": "ipython",
    "version": 3
   },
   "file_extension": ".py",
   "mimetype": "text/x-python",
   "name": "python",
   "nbconvert_exporter": "python",
   "pygments_lexer": "ipython3",
   "version": "3.7.0"
  }
 },
 "nbformat": 4,
 "nbformat_minor": 5
}
