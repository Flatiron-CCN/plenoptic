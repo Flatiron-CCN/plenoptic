{
 "cells": [
  {
   "cell_type": "markdown",
   "id": "coated-audit",
   "metadata": {},
   "source": [
    "# Steerable Pyramid Demo\n",
    "Steerable pyramids decompose an image into severabl bands corresponding to different orientations and spatial scales. For a walkthrough of the basic functionalities of the plenoptic implementation of the steerable pyramid see [here](https://github.com/LabForComputationalVision/plenoptic/blob/master/examples/03_Steerable_Pyramid.ipynb), and for even more details on steerable pyramids and how they are built see [here]( https://pyrtools.readthedocs.io/en/latest/)\n",
    "\n",
    "While this type of decomposition is often learned in the early stages of deep networks trained on computer vision tasks, using a Steerable pyramid as a front end offers theoretical guarantees about the information contained in the early stages and can reduce the number of learnable parameters necessary for a given task, and can allow the network to \"focus,\" on learning more complicated features as soon as training begins. While similar representations can often be learned by the early stages of deep networks trained on computer vision tasks, using a Steerable pyramid as a front end offers theoretical guarantees about the information contained in the early stages and can reduce the number of learnable parameters necessary for a given task, and can allow the network to \"focus,\" on learning more complicated features as soon as training begins."
   ]
  },
  {
   "cell_type": "code",
   "execution_count": 45,
   "id": "dominican-encoding",
   "metadata": {},
   "outputs": [
    {
     "name": "stdout",
     "output_type": "stream",
     "text": [
      "The autoreload extension is already loaded. To reload it, use:\n",
      "  %reload_ext autoreload\n"
     ]
    }
   ],
   "source": [
    "import numpy as np\n",
    "import torch\n",
    "import torchvision\n",
    "import torchvision.transforms as transforms\n",
    "import torch.nn.functional as F\n",
    "from torchvision.utils import make_grid\n",
    "from torch import nn\n",
    "import matplotlib.pyplot as plt\n",
    "\n",
    "import pyrtools as pt\n",
    "import plenoptic as po\n",
    "from plenoptic.tools.signal import rcosFn, pointOp\n",
    "%matplotlib inline\n",
    "\n",
    "from plenoptic.simulate import Steerable_Pyramid_Freq\n",
    "from plenoptic.tools.display import convert_pyrshow\n",
    "from plenoptic.tools.data import torch_complex_to_numpy, to_numpy\n",
    "dtype = torch.float32\n",
    "device = torch.device(\"cuda\" if torch.cuda.is_available() else \"cpu\")\n",
    "\n",
    "%load_ext autoreload\n",
    "\n",
    "%autoreload 2"
   ]
  },
  {
   "cell_type": "code",
   "execution_count": 2,
   "id": "smooth-draft",
   "metadata": {},
   "outputs": [
    {
     "name": "stdout",
     "output_type": "stream",
     "text": [
      "Downloading http://fashion-mnist.s3-website.eu-central-1.amazonaws.com/train-images-idx3-ubyte.gz to ./data/FashionMNIST/FashionMNIST/raw/train-images-idx3-ubyte.gz\n"
     ]
    },
    {
     "data": {
      "application/vnd.jupyter.widget-view+json": {
       "model_id": "d374508b8248422eb1317573d65e57f6",
       "version_major": 2,
       "version_minor": 0
      },
      "text/plain": [
       "0it [00:00, ?it/s]"
      ]
     },
     "metadata": {},
     "output_type": "display_data"
    },
    {
     "name": "stdout",
     "output_type": "stream",
     "text": [
      "Extracting ./data/FashionMNIST/FashionMNIST/raw/train-images-idx3-ubyte.gz to ./data/FashionMNIST/FashionMNIST/raw\n",
      "Downloading http://fashion-mnist.s3-website.eu-central-1.amazonaws.com/train-labels-idx1-ubyte.gz to ./data/FashionMNIST/FashionMNIST/raw/train-labels-idx1-ubyte.gz\n"
     ]
    },
    {
     "data": {
      "application/vnd.jupyter.widget-view+json": {
       "model_id": "35bc3272b9eb4a2688d8b7cec7e1581b",
       "version_major": 2,
       "version_minor": 0
      },
      "text/plain": [
       "0it [00:00, ?it/s]"
      ]
     },
     "metadata": {},
     "output_type": "display_data"
    },
    {
     "name": "stdout",
     "output_type": "stream",
     "text": [
      "Extracting ./data/FashionMNIST/FashionMNIST/raw/train-labels-idx1-ubyte.gz to ./data/FashionMNIST/FashionMNIST/raw\n",
      "Downloading http://fashion-mnist.s3-website.eu-central-1.amazonaws.com/t10k-images-idx3-ubyte.gz to ./data/FashionMNIST/FashionMNIST/raw/t10k-images-idx3-ubyte.gz\n"
     ]
    },
    {
     "data": {
      "application/vnd.jupyter.widget-view+json": {
       "model_id": "b6ba48749e4a4f75ac5edb14c276314f",
       "version_major": 2,
       "version_minor": 0
      },
      "text/plain": [
       "0it [00:00, ?it/s]"
      ]
     },
     "metadata": {},
     "output_type": "display_data"
    },
    {
     "name": "stdout",
     "output_type": "stream",
     "text": [
      "Extracting ./data/FashionMNIST/FashionMNIST/raw/t10k-images-idx3-ubyte.gz to ./data/FashionMNIST/FashionMNIST/raw\n",
      "Downloading http://fashion-mnist.s3-website.eu-central-1.amazonaws.com/t10k-labels-idx1-ubyte.gz to ./data/FashionMNIST/FashionMNIST/raw/t10k-labels-idx1-ubyte.gz\n"
     ]
    },
    {
     "data": {
      "application/vnd.jupyter.widget-view+json": {
       "model_id": "c3b43e41678b48eda1029dc6479a2561",
       "version_major": 2,
       "version_minor": 0
      },
      "text/plain": [
       "0it [00:00, ?it/s]"
      ]
     },
     "metadata": {},
     "output_type": "display_data"
    },
    {
     "name": "stdout",
     "output_type": "stream",
     "text": [
      "Extracting ./data/FashionMNIST/FashionMNIST/raw/t10k-labels-idx1-ubyte.gz to ./data/FashionMNIST/FashionMNIST/raw\n",
      "Processing...\n",
      "Done!\n"
     ]
    },
    {
     "name": "stderr",
     "output_type": "stream",
     "text": [
      "/Users/tyerxa/opt/anaconda3/envs/plenoptic/lib/python3.7/site-packages/torchvision/datasets/mnist.py:480: UserWarning: The given NumPy array is not writeable, and PyTorch does not support non-writeable tensors. This means you can write to the underlying (supposedly non-writeable) NumPy array using the tensor. You may want to copy the array to protect its data or make it writeable before converting it to a tensor. This type of warning will be suppressed for the rest of this program. (Triggered internally at  ../torch/csrc/utils/tensor_numpy.cpp:141.)\n",
      "  return torch.from_numpy(parsed.astype(m[2], copy=False)).view(*s)\n"
     ]
    }
   ],
   "source": [
    "# First we define/download the dataset\n",
    "train_set = torchvision.datasets.FashionMNIST(\n",
    "    root = './data/FashionMNIST',\n",
    "    train = True,\n",
    "    download = True,\n",
    "    transform = transforms.Compose([\n",
    "        transforms.ToTensor()                                 \n",
    "    ])\n",
    ")"
   ]
  },
  {
   "cell_type": "code",
   "execution_count": 25,
   "id": "conservative-cowboy",
   "metadata": {},
   "outputs": [],
   "source": [
    "# Define a simple model: SteerPyr --> ConvLayer --> Fully Connected\n",
    "class PyrConvFull(nn.Module):\n",
    "    def __init__(self, imshape, order, scales, kernel_size, exclude = [], output_dim = 10, is_complex = True):\n",
    "        super(PyrConvFull, self).__init__()\n",
    "        \n",
    "        self.imshape = imshape\n",
    "        self.order = order\n",
    "        self.scales = scales\n",
    "        self.output_dim = output_dim\n",
    "        self.kernel_size = kernel_size\n",
    "        self.exclude = exclude\n",
    "        self.is_complex = is_complex\n",
    "        \n",
    "        self.rect = nn.ReLU(inplace = True)\n",
    "        self.pyr = Steerable_Pyramid_Freq(height=self.scales,image_shape=self.imshape,\n",
    "                                          order=self.order,is_complex = self.is_complex,twidth=1, downsample=False)\n",
    "        \n",
    "        #channels number of scales * number of orientations * 2 (for the real/imag)\n",
    "        self.pyr_channels = (self.order+1)*self.scales*2\n",
    "        self.conv = nn.Conv2d(in_channels = self.pyr_channels,kernel_size = self.kernel_size, \n",
    "                              out_channels= self.output_dim, stride = 2)\n",
    "        output_size = ((self.imshape[0] - self.kernel_size) / 2 + 1) ** 2\n",
    "        n_feats = int(output_size * self.output_dim)\n",
    "        self.fc = nn.Linear(in_features=n_feats, out_features=10)\n",
    "        \n",
    "    def forward(self, x):\n",
    "        out = self.pyr(x)\n",
    "        # first and last channels are the residuals, so drop them\n",
    "        out = out[:, 1:-1]\n",
    "        out = self.rect(out)\n",
    "        out = self.conv(out)\n",
    "        out = self.rect(out)\n",
    "        out = out.view(out.shape[0], -1) # reshape for linear layer\n",
    "        out = self.fc(out) # going to use cross entropy loss so no need for softmax\n",
    "\n",
    "        return out"
   ]
  },
  {
   "cell_type": "code",
   "execution_count": 42,
   "id": "intermediate-gateway",
   "metadata": {},
   "outputs": [
    {
     "data": {
      "text/plain": [
       "Text(0, 0.5, 'Cross Entropy Los')"
      ]
     },
     "execution_count": 42,
     "metadata": {},
     "output_type": "execute_result"
    },
    {
     "data": {
      "image/png": "[encoded data removed]",
      "text/plain": [
       "<Figure size 432x288 with 1 Axes>"
      ]
     },
     "metadata": {
      "needs_background": "light"
     },
     "output_type": "display_data"
    }
   ],
   "source": [
    "# Training\n",
    "model = PyrConvFull([28, 28], order=4, scales=2, kernel_size=6, output_dim=3)\n",
    "loader = torch.utils.data.DataLoader(train_set, batch_size = 50)\n",
    "optimizer = torch.optim.Adam(model.parameters(), lr=1e-3)\n",
    "\n",
    "\n",
    "epoch = 2\n",
    "losses = []\n",
    "for e in range(epoch):\n",
    "    for batch in loader:\n",
    "        images = batch[0]\n",
    "        labels = batch[1]\n",
    "        preds = model(images)\n",
    "        loss = F.cross_entropy(preds, labels)\n",
    "\n",
    "        optimizer.zero_grad()\n",
    "        loss.backward()\n",
    "        optimizer.step()\n",
    "        \n",
    "        c += 1\n",
    "        \n",
    "        losses.append(loss.item())\n",
    "        \n",
    "plt.plot(losses)\n",
    "plt.xlabel('Iteration')\n",
    "plt.ylabel('Cross Entropy Loss')"
   ]
  },
  {
   "cell_type": "code",
   "execution_count": 60,
   "id": "neutral-trigger",
   "metadata": {},
   "outputs": [
    {
     "data": {
      "text/plain": [
       "<matplotlib.image.AxesImage at 0x7fdf6a571780>"
      ]
     },
     "execution_count": 60,
     "metadata": {},
     "output_type": "execute_result"
    },
    {
     "data": {
      "image/png": "[encoded data removed]",
      "text/plain": [
       "<Figure size 432x288 with 1 Axes>"
      ]
     },
     "metadata": {
      "needs_background": "light"
     },
     "output_type": "display_data"
    }
   ],
   "source": [
    "# Feature Visualization\n",
    "conv_weights = model.conv.weight.detach().view(-1, 1, 6, 6)\n",
    "conv_weights = make_grid(conv_weights, normalize=True, scale_each=True)\n",
    "conv_weights = conv_weights.numpy()\n",
    "conv_weights = np.transpose(conv_weights, (1, 2, 0))\n",
    "plt.imshow(conv_weights, cmap='gray')"
   ]
  }
 ],
 "metadata": {
  "kernelspec": {
   "display_name": "Python 3",
   "language": "python",
   "name": "python3"
  },
  "language_info": {
   "codemirror_mode": {
    "name": "ipython",
    "version": 3
   },
   "file_extension": ".py",
   "mimetype": "text/x-python",
   "name": "python",
   "nbconvert_exporter": "python",
   "pygments_lexer": "ipython3",
   "version": "3.7.0"
  }
 },
 "nbformat": 4,
 "nbformat_minor": 5
}
