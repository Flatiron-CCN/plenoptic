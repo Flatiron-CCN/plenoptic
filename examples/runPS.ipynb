{
 "cells": [
  {
   "cell_type": "code",
   "execution_count": 1,
   "metadata": {},
   "outputs": [],
   "source": [
    "import numpy as np\n",
    "import matplotlib\n",
    "import matplotlib.pyplot as plt\n",
    "import torch\n",
    "import pyrtools as pt\n",
    "import plenoptic as po\n",
    "import scipy.io as sio\n",
    "import seaborn as sns\n",
    "import h5py\n",
    "\n",
    "torch.__version__\n",
    "numpy = lambda x: x.detach().cpu().numpy().squeeze()\n",
    "device = torch.device(\"cuda\" if torch.cuda.is_available() else \"cpu\")\n",
    "\n",
    "\n",
    "def relTol(a,b):\n",
    "    return(abs(a-b)/(abs(a)+abs(b)))\n",
    "\n",
    "def absTol(a,b):\n",
    "    return(abs(a-b))\n",
    "\n",
    "def reportTol(a,b):\n",
    "    return (max(relTol(a,b)),max(absTol(a,b)))\n"
   ]
  },
  {
   "cell_type": "code",
   "execution_count": 2,
   "metadata": {},
   "outputs": [
    {
     "name": "stdout",
     "output_type": "stream",
     "text": [
      "[ -63.42752039  116.7691824  -929.83217244  465.4683692  -260.5042593 ]\n"
     ]
    }
   ],
   "source": [
    "f = h5py.File('/Users/kathrynbonnen/Documents/MATLAB/textureSynth/pyramid.mat','r')\n",
    "\n",
    "Nsc = np.int64(f['Nsc'][()][0][0])\n",
    "Nor = np.int64(f['Nor'][()][0][0])\n",
    "im0 = torch.Tensor(f['im0'][()]).T.unsqueeze(0).unsqueeze(0);\n",
    "pind_m = f['pind0'][()]\n",
    "pyr0 = f['pyr0'][()].flatten()\n",
    "\n",
    "\n",
    "f = h5py.File('/Users/kathrynbonnen/Documents/MATLAB/textureSynth/parents.mat','r')\n",
    "rparents_mat = f['rparents'][()].T\n",
    "cousins_mat = f['cousins'][()].T\n",
    "print(rparents_mat[0])"
   ]
  },
  {
   "cell_type": "code",
   "execution_count": 3,
   "metadata": {},
   "outputs": [
    {
     "name": "stdout",
     "output_type": "stream",
     "text": [
      "True\n",
      "statg0:  torch.Size([6, 1]) 6\n",
      "magMeans0:  torch.Size([18, 1]) 18\n",
      "ace:  torch.Size([3, 3, 4, 4]) 144\n",
      "skew0p:  torch.Size([5, 1]) 5\n",
      "kurt0p:  torch.Size([5, 1]) 5\n",
      "acr:  torch.Size([3, 3, 5]) 45\n",
      "C0:  torch.Size([4, 4, 5]) 80\n",
      "Cx0:  torch.Size([4, 4, 4]) 64\n",
      "Cr0:  torch.Size([8, 8, 5]) 320\n",
      "Crx0:  torch.Size([8, 8, 4]) 256\n",
      "vHPR0:  tensor(364.8426) 1\n"
     ]
    }
   ],
   "source": [
    "matlab_pyr = po.simulate.Steerable_Pyramid_Freq.vector_to_pyramid(pyr0, im0.shape, Nsc, Nor)\n",
    "model = po.simulate.Portilla_Simoncelli(im0.shape[-2:],n_scales=4,n_orientations=4,Na=3,inputImageIsPyramid=True)\n",
    "y = model.forward((matlab_pyr,im0))\n"
   ]
  },
  {
   "cell_type": "code",
   "execution_count": 14,
   "metadata": {},
   "outputs": [
    {
     "name": "stdout",
     "output_type": "stream",
     "text": [
      "False\n",
      "statg0:  torch.Size([6, 1]) 6\n",
      "magMeans0:  torch.Size([18, 1]) 18\n",
      "ace:  torch.Size([3, 3, 4, 4]) 144\n",
      "skew0p:  torch.Size([5, 1]) 5\n",
      "kurt0p:  torch.Size([5, 1]) 5\n",
      "acr:  torch.Size([3, 3, 5]) 45\n",
      "C0:  torch.Size([4, 4, 5]) 80\n",
      "Cx0:  torch.Size([4, 4, 4]) 64\n",
      "Cr0:  torch.Size([8, 8, 5]) 320\n",
      "Crx0:  torch.Size([8, 8, 4]) 256\n",
      "vHPR0:  tensor(364.8424) 1\n"
     ]
    },
    {
     "data": {
      "text/plain": [
       "tensor([[690],\n",
       "        [722],\n",
       "        [754],\n",
       "        [786]])"
      ]
     },
     "execution_count": 14,
     "metadata": {},
     "output_type": "execute_result"
    }
   ],
   "source": [
    "model_py = po.simulate.Portilla_Simoncelli(im0.shape[-2:],n_scales=4,n_orientations=4,Na=3)\n",
    "y_py = model_py.forward(im0)\n",
    "\n",
    "(relTol(y,y_py)>1e-5).nonzero()\n"
   ]
  },
  {
   "cell_type": "code",
   "execution_count": 34,
   "metadata": {},
   "outputs": [],
   "source": [
    "tmp = sio.loadmat('../data/plenoptic-test-files/PortillaSimoncelliMatlab0.mat')"
   ]
  },
  {
   "cell_type": "code",
   "execution_count": 35,
   "metadata": {},
   "outputs": [
    {
     "name": "stdout",
     "output_type": "stream",
     "text": [
      "torch.Size([32, 32, 2])\n",
      "tensor([[   22.4766,   339.4022,   457.5108,  ...,  -339.4024,  -457.5112,\n",
      "          -307.6158],\n",
      "        [  339.4023,  5125.1748,  6908.6890,  ..., -5125.1748, -6908.6895,\n",
      "         -4645.1875],\n",
      "        [  457.5107,  6908.6895,  9312.8516,  ..., -6908.6895, -9312.8516,\n",
      "         -6261.6714],\n",
      "        ...,\n",
      "        [ -339.4023, -5125.1748, -6908.6895,  ...,  5125.1748,  6908.6890,\n",
      "          4645.1875],\n",
      "        [ -457.5108, -6908.6895, -9312.8516,  ...,  6908.6895,  9312.8516,\n",
      "          6261.6714],\n",
      "        [ -307.6156, -4645.1875, -6261.6714,  ...,  4645.1875,  6261.6709,\n",
      "          4210.1533]])\n",
      "statg0:  torch.Size([6, 1]) 6\n",
      "magMeans0:  torch.Size([18, 1]) 18\n",
      "ace:  torch.Size([9, 9, 4, 4]) 1296\n",
      "skew0p:  torch.Size([5, 1]) 5\n",
      "kurt0p:  torch.Size([5, 1]) 5\n",
      "acr:  torch.Size([9, 9, 5]) 405\n",
      "C0:  torch.Size([4, 4, 5]) 80\n",
      "Cx0:  torch.Size([4, 4, 4]) 64\n",
      "Cr0:  torch.Size([8, 8, 5]) 320\n",
      "Crx0:  torch.Size([8, 8, 4]) 256\n",
      "vHPR0:  tensor(74.0163) 1\n",
      "1.4901161193847656e-08\n",
      "32.0\n",
      "(array([1384, 1394, 1404, 1414, 1474, 1484, 1494, 1504, 1564, 1574, 1584,\n",
      "       1594, 1654, 1664, 1674, 1684, 2206, 2210, 2214, 2218, 2270, 2274,\n",
      "       2278, 2282, 2302, 2306, 2310, 2314]),)\n"
     ]
    }
   ],
   "source": [
    "matfile = sio.loadmat('../data/plenoptic-test-files/PortillaSimoncelliMatlab'+str(0))\n",
    "im0 = torch.Tensor(matfile['im0']).unsqueeze(0).unsqueeze(0)\n",
    "paramsMat = np.array(matfile['paramsVector']).flatten()\n",
    "model = po.simulate.Portilla_Simoncelli(im0.shape[-2:],n_scales=4,n_orientations=4,Na=9)\n",
    "paramsPython = model.forward(im0)\n",
    "paramsPython = po.to_numpy(paramsPython)\n"
   ]
  },
  {
   "cell_type": "code",
   "execution_count": null,
   "metadata": {},
   "outputs": [],
   "source": []
  },
  {
   "cell_type": "code",
   "execution_count": null,
   "metadata": {},
   "outputs": [],
   "source": []
  }
 ],
 "metadata": {
  "kernelspec": {
   "display_name": "Python [conda env:plenoptic_docs] *",
   "language": "python",
   "name": "conda-env-plenoptic_docs-py"
  },
  "language_info": {
   "codemirror_mode": {
    "name": "ipython",
    "version": 3
   },
   "file_extension": ".py",
   "mimetype": "text/x-python",
   "name": "python",
   "nbconvert_exporter": "python",
   "pygments_lexer": "ipython3",
   "version": "3.6.7"
  }
 },
 "nbformat": 4,
 "nbformat_minor": 2
}
