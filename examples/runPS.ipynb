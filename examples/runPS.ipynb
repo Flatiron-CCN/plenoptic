{
 "cells": [
  {
   "cell_type": "code",
   "execution_count": 1,
   "metadata": {},
   "outputs": [],
   "source": [
    "import numpy as np\n",
    "import matplotlib\n",
    "import matplotlib.pyplot as plt\n",
    "import torch\n",
    "import pyrtools as pt\n",
    "import plenoptic as po\n",
    "import scipy.io as sio\n",
    "import seaborn as sns\n",
    "\n",
    "torch.__version__\n",
    "numpy = lambda x: x.detach().cpu().numpy().squeeze()\n",
    "device = torch.device(\"cuda\" if torch.cuda.is_available() else \"cpu\")\n",
    "\n"
   ]
  },
  {
   "cell_type": "code",
   "execution_count": 3,
   "metadata": {},
   "outputs": [
    {
     "name": "stdout",
     "output_type": "stream",
     "text": [
      "(256, 256)\n",
      "torch.Size([1, 1, 256, 256])\n"
     ]
    }
   ],
   "source": [
    "# image = plt.imread('../data/flowers.jpg').astype(float).mean(axis=2)\n",
    "image = plt.imread('../data/metal.pgm').astype(float)\n",
    "print(image.shape)\n",
    "im0 = torch.tensor(image,requires_grad=True,dtype = torch.float32).squeeze().unsqueeze(0).unsqueeze(0)\n",
    "x = po.make_basic_stimuli()\n",
    "x = x[0,0,:,:].unsqueeze(0).unsqueeze(0)\n",
    "print(x.shape)\n",
    "model = po.simulate.Portilla_Simoncelli(x.shape[-2:],n_scales=4,n_orientations=4,Na=9)\n",
    "y = model.forward(x)"
   ]
  },
  {
   "cell_type": "code",
   "execution_count": 4,
   "metadata": {},
   "outputs": [],
   "source": [
    "s = po.simulate.Steerable_Pyramid_Freq(image.shape, 4,\n",
    "            3, is_complex=True, store_unoriented_bands=True,\n",
    "                                          return_list=True)"
   ]
  },
  {
   "cell_type": "code",
   "execution_count": 5,
   "metadata": {},
   "outputs": [],
   "source": [
    "pyr = s.forward(im0)"
   ]
  },
  {
   "cell_type": "code",
   "execution_count": 6,
   "metadata": {},
   "outputs": [
    {
     "data": {
      "text/plain": [
       "torch.Size([1, 1, 256, 256, 2])"
      ]
     },
     "execution_count": 6,
     "metadata": {},
     "output_type": "execute_result"
    }
   ],
   "source": [
    "pyr[1].shape"
   ]
  },
  {
   "cell_type": "code",
   "execution_count": 7,
   "metadata": {},
   "outputs": [],
   "source": [
    "tmp = sio.loadmat('../data/plenoptic-test-files/PortillaSimoncelliMatlab0.mat')"
   ]
  },
  {
   "cell_type": "code",
   "execution_count": 10,
   "metadata": {},
   "outputs": [
    {
     "name": "stdout",
     "output_type": "stream",
     "text": [
      "1.4901161193847656e-08\n",
      "32.0\n",
      "(array([1384, 1394, 1404, 1414, 1474, 1484, 1494, 1504, 1564, 1574, 1584,\n",
      "       1594, 1654, 1664, 1674, 1684, 2206, 2210, 2214, 2218, 2270, 2274,\n",
      "       2278, 2282, 2302, 2306, 2310, 2314]),)\n"
     ]
    }
   ],
   "source": [
    "matfile = sio.loadmat('../data/plenoptic-test-files/PortillaSimoncelliMatlab'+str(0))\n",
    "im0 = torch.Tensor(matfile['im0']).unsqueeze(0).unsqueeze(0)\n",
    "paramsMat = np.array(matfile['paramsVector']).flatten()\n",
    "model = po.simulate.Portilla_Simoncelli(im0.shape[-2:],n_scales=4,n_orientations=4,Na=9)\n",
    "paramsPython = model.forward(im0)\n",
    "paramsPython = po.to_numpy(paramsPython)\n",
    "\n",
    "# print(paramsPython.shape)\n",
    "# print(paramsMat.shape)\n",
    "# print(abs(paramsMat-paramsPython))\n",
    "\n",
    "print(paramsMat[1384])\n",
    "print(paramsPython[1384])\n",
    "print(np.where(abs(paramsMat-paramsPython)>30))\n"
   ]
  },
  {
   "cell_type": "code",
   "execution_count": null,
   "metadata": {},
   "outputs": [],
   "source": []
  }
 ],
 "metadata": {
  "kernelspec": {
   "display_name": "Python [conda env:plenoptic_docs] *",
   "language": "python",
   "name": "conda-env-plenoptic_docs-py"
  },
  "language_info": {
   "codemirror_mode": {
    "name": "ipython",
    "version": 3
   },
   "file_extension": ".py",
   "mimetype": "text/x-python",
   "name": "python",
   "nbconvert_exporter": "python",
   "pygments_lexer": "ipython3",
   "version": "3.6.7"
  }
 },
 "nbformat": 4,
 "nbformat_minor": 2
}
