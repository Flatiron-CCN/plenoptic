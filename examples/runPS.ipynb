{
 "cells": [
  {
   "cell_type": "code",
   "execution_count": 1,
   "metadata": {},
   "outputs": [],
   "source": [
    "import numpy as np\n",
    "import matplotlib\n",
    "import matplotlib.pyplot as plt\n",
    "import torch\n",
    "import pyrtools as pt\n",
    "import plenoptic as po\n",
    "import scipy.io as sio\n",
    "import seaborn as sns\n",
    "\n",
    "torch.__version__\n",
    "numpy = lambda x: x.detach().cpu().numpy().squeeze()\n",
    "device = torch.device(\"cuda\" if torch.cuda.is_available() else \"cpu\")\n",
    "\n"
   ]
  },
  {
   "cell_type": "code",
   "execution_count": 2,
   "metadata": {},
   "outputs": [
    {
     "name": "stdout",
     "output_type": "stream",
     "text": [
      "(256, 256)\n",
      "torch.Size([9, 9, 5])\n",
      "tensor([[  44.8164,  292.7126,  588.4286,  904.1422, 1220.5394, 1473.2025],\n",
      "        [ 338.6368,  611.4792,  898.7686, 1247.7488, 1655.6799, 1951.3042],\n",
      "        [ 675.3194,  919.8493, 1204.1321, 1731.2123, 2345.8579, 2584.8350],\n",
      "        [1022.1216, 1269.2629, 1706.4189, 2590.9409, 3363.1631, 3258.0859],\n",
      "        [1346.4957, 1675.0886, 2303.3701, 3336.8457, 3917.0969, 3336.8462],\n",
      "        [1581.7891, 1975.8948, 2564.5764, 3258.0859, 3363.1631, 2590.9412]],\n",
      "       grad_fn=<SelectBackward>)\n"
     ]
    }
   ],
   "source": [
    "# image = plt.imread('../data/flowers.jpg').astype(float).mean(axis=2)\n",
    "image = plt.imread('../data/metal.pgm').astype(float)\n",
    "print(image.shape)\n",
    "im0 = torch.tensor(image,requires_grad=True,dtype = torch.float32).squeeze().unsqueeze(0).unsqueeze(0)\n",
    "\n",
    "model = po.simulate.Texture_Statistics(image.shape)\n",
    "y = model.forward(im0)"
   ]
  },
  {
   "cell_type": "code",
   "execution_count": null,
   "metadata": {},
   "outputs": [],
   "source": [
    "s = po.simulate.Steerable_Pyramid_Freq(image.shape, 4,\n",
    "            3, is_complex=True, store_unoriented_bands=True,\n",
    "                                          return_list=True)"
   ]
  },
  {
   "cell_type": "code",
   "execution_count": 11,
   "metadata": {},
   "outputs": [],
   "source": [
    "pyr = s.forward(im0)"
   ]
  },
  {
   "cell_type": "code",
   "execution_count": 12,
   "metadata": {},
   "outputs": [
    {
     "data": {
      "text/plain": [
       "torch.Size([1, 1, 256, 256, 2])"
      ]
     },
     "execution_count": 12,
     "metadata": {},
     "output_type": "execute_result"
    }
   ],
   "source": [
    "pyr[1].shape"
   ]
  },
  {
   "cell_type": "code",
   "execution_count": null,
   "metadata": {},
   "outputs": [],
   "source": []
  }
 ],
 "metadata": {
  "kernelspec": {
   "display_name": "Python [conda env:plenoptic_docs] *",
   "language": "python",
   "name": "conda-env-plenoptic_docs-py"
  },
  "language_info": {
   "codemirror_mode": {
    "name": "ipython",
    "version": 3
   },
   "file_extension": ".py",
   "mimetype": "text/x-python",
   "name": "python",
   "nbconvert_exporter": "python",
   "pygments_lexer": "ipython3",
   "version": "3.6.7"
  }
 },
 "nbformat": 4,
 "nbformat_minor": 2
}
