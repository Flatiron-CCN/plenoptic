{
 "cells": [
  {
   "cell_type": "code",
   "execution_count": 33,
   "metadata": {},
   "outputs": [],
   "source": [
    "import numpy as np\n",
    "import matplotlib\n",
    "import matplotlib.pyplot as plt\n",
    "import torch\n",
    "import pyrtools as pt\n",
    "import plenoptic as po\n",
    "import scipy.io as sio\n",
    "import h5py\n",
    "torch.__version__\n",
    "numpy = lambda x: x.detach().cpu().numpy().squeeze()\n",
    "device = torch.device(\"cuda\" if torch.cuda.is_available() else \"cpu\")\n",
    "\n",
    "parameterTypes = ['pixel_statistics','mean_magnitude_pyramid_bands', 'ace','skew','kurt','acr','C0','Cx0','Cr0','Crx0','varHPR']\n",
    "torch.set_default_dtype(torch.float64) "
   ]
  },
  {
   "cell_type": "code",
   "execution_count": 49,
   "metadata": {},
   "outputs": [
    {
     "name": "stdout",
     "output_type": "stream",
     "text": [
      "(array([], dtype=int64),)\n",
      "tensor([])\n",
      "tensor([])\n",
      "(array([], dtype=int64),)\n",
      "tensor([])\n",
      "tensor([])\n",
      "(array([], dtype=int64),)\n",
      "tensor([])\n",
      "tensor([])\n",
      "(array([], dtype=int64),)\n",
      "tensor([])\n",
      "tensor([])\n",
      "(array([], dtype=int64),)\n",
      "tensor([])\n",
      "tensor([])\n"
     ]
    }
   ],
   "source": [
    "## Comparison between python output and matlab output\n",
    "for n in range(0,5):\n",
    "    f = h5py.File(f'/Users/kathrynbonnen/Documents/MATLAB/textureSynth/pythonTestVectors/PortillaSimoncelliMatlab{n}.mat','r')\n",
    "    # load in relevant variables from matlab\n",
    "    paramsVector = f['paramsVector'][()][0]\n",
    "    paramIndices = [0]+list(f['paramIndices'][()][0])\n",
    "    im0 = torch.Tensor(f['im0'][()]).T.unsqueeze(0).unsqueeze(0);\n",
    "    Nsc = int(f['Nsc'][()][0][0])\n",
    "    Na = int(f['Na'][()][0][0])\n",
    "    Nor = int(f['Nor'][()][0][0])\n",
    "    \n",
    "    # matlab PS output\n",
    "    y_mat = torch.Tensor(paramsVector)\n",
    "\n",
    "    # calculate python output\n",
    "    model_py = po.simulate.Portilla_Simoncelli(im0.shape[-2:],n_scales=Nsc,n_orientations=Nor,Na=3)\n",
    "    y_py = model_py.forward(im0)\n",
    "\n",
    "    # Find parameters above the tolerance\n",
    "    atol = 1e-5\n",
    "    rtol = 1e-4\n",
    "#     np.testing.assert_allclose(y_py[:], y_mat[:], rtol=rtol, atol=atol)\n",
    "    \n",
    "    abovTol = np.nonzero(~np.isclose(y_py[:], y_mat[:], rtol=rtol, atol=atol))\n",
    "    print(abovTol)\n",
    "    print(y_py[abovTol])\n",
    "    print(y_mat[abovTol])\n",
    "    \n",
    "\n",
    "    \n",
    "\n",
    "    "
   ]
  },
  {
   "cell_type": "code",
   "execution_count": null,
   "metadata": {},
   "outputs": [],
   "source": []
  },
  {
   "cell_type": "code",
   "execution_count": null,
   "metadata": {},
   "outputs": [],
   "source": []
  },
  {
   "cell_type": "code",
   "execution_count": null,
   "metadata": {},
   "outputs": [],
   "source": []
  },
  {
   "cell_type": "code",
   "execution_count": null,
   "metadata": {},
   "outputs": [],
   "source": [
    "aboveTol = np.nonzero(~np.isclose(y_py[:], y_mat[:], rtol=rtol, atol=atol))[0]\n"
   ]
  },
  {
   "cell_type": "code",
   "execution_count": 16,
   "metadata": {},
   "outputs": [
    {
     "name": "stdout",
     "output_type": "stream",
     "text": [
      "['acr', 'Cx0', 'Cr0', 'Crx0']\n",
      "(117,)\n",
      "['C0', 'Cr0', 'Crx0']\n",
      "(69,)\n",
      "['Cr0', 'Crx0']\n",
      "(68,)\n",
      "['C0', 'Cr0', 'Crx0']\n",
      "(71,)\n",
      "['Cx0', 'Cr0', 'Crx0']\n",
      "(95,)\n"
     ]
    }
   ],
   "source": [
    "## Comparison between python output (with pyramid input) and matlab output\n",
    "\n",
    "for n in range(0,5):\n",
    "    f = h5py.File(f'/Users/kathrynbonnen/Documents/MATLAB/textureSynth/pythonTestVectors/PortillaSimoncelliMatlab{n}.mat','r')\n",
    "\n",
    "    # load in relevant pyramid variables from matlab\n",
    "    Nsc = np.int64(f['Nsc'][()][0][0]) # n scales\n",
    "    Nor = np.int64(f['Nor'][()][0][0]) # n orientations\n",
    "    im0 = torch.Tensor(f['im0'][()]).T.unsqueeze(0).unsqueeze(0) # image\n",
    "    pyr0 = f['pyr0'][()].flatten() # pyramid\n",
    "    paramsVector = f['paramsVector'][()][0] # matlab PS output\n",
    "    paramIndices = [0]+list(f['paramIndices'][()][0])\n",
    "\n",
    "    # convert matlab paramsVector to Tensor\n",
    "    y_mat = torch.Tensor(paramsVector)\n",
    "\n",
    "    # run forward model beginning with matlab pyramid\n",
    "    matlab_pyr = po.simulate.Steerable_Pyramid_Freq.vector_to_pyramid(pyr0, im0.shape, Nsc, Nor)\n",
    "\n",
    "    model = po.simulate.Portilla_Simoncelli(im0.shape[-2:],n_scales=4,n_orientations=4,Na=3,inputImageIsPyramid=True)\n",
    "    y_py = model.forward((matlab_pyr,im0))\n",
    "    atol = 1e-5\n",
    "    rtol = 1e-5\n",
    "    aboveTol = np.nonzero(~np.isclose(y_py[:], y_mat[:], rtol=rtol, atol=atol))[0]\n",
    "    parameterTypesAboveTolerance = [value for ii,value in enumerate(parameterTypes) if \n",
    "                                    np.any(np.logical_and(aboveTol>=paramIndices[ii], aboveTol<paramIndices[ii+1]))]\n",
    "\n",
    "    \n",
    "    print(parameterTypesAboveTolerance)\n",
    "    print(aboveTol.shape)\n",
    "#     tmp = np.testing.assert_allclose(y[:], y_mat[:], rtol=rtol, atol=atol)"
   ]
  }
 ],
 "metadata": {
  "kernelspec": {
   "display_name": "Python [conda env:plenoptic] *",
   "language": "python",
   "name": "conda-env-plenoptic-py"
  },
  "language_info": {
   "codemirror_mode": {
    "name": "ipython",
    "version": 3
   },
   "file_extension": ".py",
   "mimetype": "text/x-python",
   "name": "python",
   "nbconvert_exporter": "python",
   "pygments_lexer": "ipython3",
   "version": "3.7.0"
  }
 },
 "nbformat": 4,
 "nbformat_minor": 2
}
