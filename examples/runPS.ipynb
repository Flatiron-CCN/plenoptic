{
 "cells": [
  {
   "cell_type": "code",
   "execution_count": 1,
   "metadata": {},
   "outputs": [],
   "source": [
    "import numpy as np\n",
    "import matplotlib\n",
    "import matplotlib.pyplot as plt\n",
    "import torch\n",
    "import pyrtools as pt\n",
    "import plenoptic as po\n",
    "import scipy.io as sio\n",
    "import seaborn as sns\n",
    "import h5py\n",
    "\n",
    "torch.__version__\n",
    "numpy = lambda x: x.detach().cpu().numpy().squeeze()\n",
    "device = torch.device(\"cuda\" if torch.cuda.is_available() else \"cpu\")\n",
    "\n",
    "\n",
    "def relTol(a,b):\n",
    "    return(abs(a-b)/(abs(a)+abs(b)))\n",
    "\n",
    "def absTol(a,b):\n",
    "    return(abs(a-b))\n",
    "\n",
    "def reportTol(a,b):\n",
    "    return (max(relTol(a,b)),max(absTol(a,b)))\n"
   ]
  },
  {
   "cell_type": "code",
   "execution_count": 2,
   "metadata": {},
   "outputs": [],
   "source": [
    "f = h5py.File('/Users/kathrynbonnen/Documents/MATLAB/textureSynth/params.mat','r')\n",
    "params=f['params']\n",
    "\n",
    "f = h5py.File('/Users/kathrynbonnen/Documents/MATLAB/textureSynth/parents.mat','r')\n",
    "rparents=np.transpose(f['rparents'][()],(1,0)).astype(np.float32)\n",
    "cousins = np.transpose(f['cousins'][()],(1,0)).astype(np.float32)\n",
    "cousinSz = f['cousinSz'][()]\n",
    "\n"
   ]
  },
  {
   "cell_type": "code",
   "execution_count": 3,
   "metadata": {},
   "outputs": [
    {
     "name": "stdout",
     "output_type": "stream",
     "text": [
      "<KeysViewHDF5 ['autoCorrMag', 'autoCorrReal', 'cousinMagCorr', 'cousinRealCorr', 'magMeans', 'parentMagCorr', 'parentRealCorr', 'pixelLPStats', 'pixelStats', 'varianceHPR']>\n"
     ]
    }
   ],
   "source": [
    "print(params.keys())\n"
   ]
  },
  {
   "cell_type": "code",
   "execution_count": 4,
   "metadata": {},
   "outputs": [],
   "source": [
    "statg0_m =  params['pixelStats'][()];\n",
    "magMeans0_m =  params['magMeans'][()];\n",
    "ace_m = np.transpose(params['autoCorrMag'][()],(3,2,1,0)).astype(np.float32);\n",
    "lpstats = np.transpose(params['pixelLPStats'][()],(1,0)).astype(np.float32);\n",
    "skew0p_m = lpstats[:,0]\n",
    "kurt0p_m = lpstats[:,1]\n",
    "vHPR0_m = params['varianceHPR'][()];\n",
    "acr_m = np.transpose(params['autoCorrReal'][()],(2,1,0)).astype(np.float32);\n",
    "C0_m = np.transpose(params['cousinMagCorr'][()],(2,1,0)).astype(np.float32);\n",
    "Cx0_m = np.transpose(params['parentMagCorr'][()],(2,1,0)).astype(np.float32);\n",
    "Cr0_m = np.transpose(params['cousinRealCorr'][()],(2,1,0)).astype(np.float32);\n",
    "Crx0_m = np.transpose(params['parentRealCorr'][()],(2,1,0)).astype(np.float32);"
   ]
  },
  {
   "cell_type": "code",
   "execution_count": 5,
   "metadata": {},
   "outputs": [
    {
     "name": "stdout",
     "output_type": "stream",
     "text": [
      "statg0:  torch.Size([6, 1]) 6\n",
      "magMeans0:  torch.Size([18, 1]) 18\n",
      "ace:  torch.Size([3, 3, 4, 4]) 144\n",
      "skew0p:  torch.Size([5, 1]) 5\n",
      "kurt0p:  torch.Size([5, 1]) 5\n",
      "acr:  torch.Size([3, 3, 5]) 45\n",
      "C0:  torch.Size([4, 4, 5]) 80\n",
      "Cx0:  torch.Size([4, 4, 4]) 64\n",
      "Cr0:  torch.Size([8, 8, 5]) 320\n",
      "Crx0:  torch.Size([8, 8, 4]) 256\n",
      "vHPR0:  tensor(384.4385, grad_fn=<MeanBackward0>) 1\n"
     ]
    }
   ],
   "source": [
    "# image = plt.imread('../data/flowers.jpg').astype(float).mean(axis=2)\n",
    "image = plt.imread('../data/metal.pgm').astype(float)\n",
    "image = image[0:64,0:64]\n",
    "im0 = torch.tensor(image,requires_grad=True,dtype = torch.float32).squeeze().unsqueeze(0).unsqueeze(0)\n",
    "model = po.simulate.Portilla_Simoncelli(im0.shape[-2:],n_scales=4,n_orientations=4,Na=3)\n",
    "y = model.forward(im0)"
   ]
  },
  {
   "cell_type": "code",
   "execution_count": 6,
   "metadata": {},
   "outputs": [
    {
     "name": "stdout",
     "output_type": "stream",
     "text": [
      "(0, 1023)\n",
      "(1.0, 0.02337646484375)\n",
      "[[-0.00146484]]\n",
      "0.02191162109375\n"
     ]
    }
   ],
   "source": [
    "a = 0\n",
    "b = 1023\n",
    "print((a,b))\n",
    "n1=np.matmul(cousins[a:b,0].T,rparents[a:b,0])/cousinSz\n",
    "n2=np.matmul(cousins[a:b,0].T,model.rparents[a:b,0])/model.cousinSz\n",
    "\n",
    "print(reportTol(n1.flatten(),n2.flatten()))\n",
    "print(n1.T)\n",
    "print(n2.T)"
   ]
  },
  {
   "cell_type": "code",
   "execution_count": 7,
   "metadata": {},
   "outputs": [
    {
     "name": "stdout",
     "output_type": "stream",
     "text": [
      "(4.174799255011961e-08, 2.4086156827252125e-05)\n",
      "(9.847755537416507e-08, 0.00021234479072518297)\n",
      "(2.1983153e-07, 0.0625)\n",
      "(9.647189e-07, 6.556511e-07)\n",
      "(1.4783791e-07, 9.536743e-07)\n",
      "(3.4270357e-07, 0.75)\n",
      "(2.7216592e-07, 0.03125)\n",
      "(3.4875286e-06, 0.002319336)\n",
      "(2.627582e-06, 0.375)\n",
      "(1.0, 0.078125)\n",
      "(9.639355384938505e-08, 7.411480089558609e-05)\n"
     ]
    },
    {
     "name": "stderr",
     "output_type": "stream",
     "text": [
      "/Users/kathrynbonnen/anaconda3/envs/plenoptic_docs/lib/python3.6/site-packages/ipykernel_launcher.py:17: RuntimeWarning: invalid value encountered in true_divide\n"
     ]
    }
   ],
   "source": [
    "print(reportTol(statg0_m.flatten(),model.statg0.flatten()))\n",
    "\n",
    "print(reportTol(magMeans0_m.flatten(),model.magMeans0.flatten()))\n",
    "\n",
    "print(reportTol(ace_m.flatten(),model.ace.flatten()))\n",
    "\n",
    "print(reportTol(skew0p_m.flatten(),model.skew0p.flatten()))\n",
    "\n",
    "print(reportTol(kurt0p_m.flatten(),model.kurt0p.flatten()))\n",
    "\n",
    "print(reportTol(acr_m.flatten(),model.acr.flatten()))\n",
    "\n",
    "print(reportTol(C0_m.flatten(),model.C0.flatten()))\n",
    "\n",
    "print(reportTol(Cx0_m.flatten(),model.Cx0.flatten()))\n",
    "\n",
    "print(reportTol(Cr0_m.flatten(),model.Cr0.flatten()))\n",
    "\n",
    "print(reportTol(Crx0_m.flatten(),model.Crx0.flatten()))\n",
    "\n",
    "print(reportTol(vHPR0_m.flatten(),model.vHPR0.flatten()))\n"
   ]
  },
  {
   "cell_type": "code",
   "execution_count": 8,
   "metadata": {},
   "outputs": [],
   "source": [
    "s = po.simulate.Steerable_Pyramid_Freq(image.shape, 4,\n",
    "            3, is_complex=True, store_unoriented_bands=True,\n",
    "                                          return_list=True)"
   ]
  },
  {
   "cell_type": "code",
   "execution_count": 32,
   "metadata": {},
   "outputs": [],
   "source": [
    "pyr = s.forward(im0)"
   ]
  },
  {
   "cell_type": "code",
   "execution_count": 33,
   "metadata": {},
   "outputs": [
    {
     "data": {
      "text/plain": [
       "torch.Size([1, 1, 256, 256, 2])"
      ]
     },
     "execution_count": 33,
     "metadata": {},
     "output_type": "execute_result"
    }
   ],
   "source": [
    "pyr[1].shape"
   ]
  },
  {
   "cell_type": "code",
   "execution_count": 34,
   "metadata": {},
   "outputs": [],
   "source": [
    "tmp = sio.loadmat('../data/plenoptic-test-files/PortillaSimoncelliMatlab0.mat')"
   ]
  },
  {
   "cell_type": "code",
   "execution_count": 35,
   "metadata": {},
   "outputs": [
    {
     "name": "stdout",
     "output_type": "stream",
     "text": [
      "torch.Size([32, 32, 2])\n",
      "tensor([[   22.4766,   339.4022,   457.5108,  ...,  -339.4024,  -457.5112,\n",
      "          -307.6158],\n",
      "        [  339.4023,  5125.1748,  6908.6890,  ..., -5125.1748, -6908.6895,\n",
      "         -4645.1875],\n",
      "        [  457.5107,  6908.6895,  9312.8516,  ..., -6908.6895, -9312.8516,\n",
      "         -6261.6714],\n",
      "        ...,\n",
      "        [ -339.4023, -5125.1748, -6908.6895,  ...,  5125.1748,  6908.6890,\n",
      "          4645.1875],\n",
      "        [ -457.5108, -6908.6895, -9312.8516,  ...,  6908.6895,  9312.8516,\n",
      "          6261.6714],\n",
      "        [ -307.6156, -4645.1875, -6261.6714,  ...,  4645.1875,  6261.6709,\n",
      "          4210.1533]])\n",
      "statg0:  torch.Size([6, 1]) 6\n",
      "magMeans0:  torch.Size([18, 1]) 18\n",
      "ace:  torch.Size([9, 9, 4, 4]) 1296\n",
      "skew0p:  torch.Size([5, 1]) 5\n",
      "kurt0p:  torch.Size([5, 1]) 5\n",
      "acr:  torch.Size([9, 9, 5]) 405\n",
      "C0:  torch.Size([4, 4, 5]) 80\n",
      "Cx0:  torch.Size([4, 4, 4]) 64\n",
      "Cr0:  torch.Size([8, 8, 5]) 320\n",
      "Crx0:  torch.Size([8, 8, 4]) 256\n",
      "vHPR0:  tensor(74.0163) 1\n",
      "1.4901161193847656e-08\n",
      "32.0\n",
      "(array([1384, 1394, 1404, 1414, 1474, 1484, 1494, 1504, 1564, 1574, 1584,\n",
      "       1594, 1654, 1664, 1674, 1684, 2206, 2210, 2214, 2218, 2270, 2274,\n",
      "       2278, 2282, 2302, 2306, 2310, 2314]),)\n"
     ]
    }
   ],
   "source": [
    "matfile = sio.loadmat('../data/plenoptic-test-files/PortillaSimoncelliMatlab'+str(0))\n",
    "im0 = torch.Tensor(matfile['im0']).unsqueeze(0).unsqueeze(0)\n",
    "paramsMat = np.array(matfile['paramsVector']).flatten()\n",
    "model = po.simulate.Portilla_Simoncelli(im0.shape[-2:],n_scales=4,n_orientations=4,Na=9)\n",
    "paramsPython = model.forward(im0)\n",
    "paramsPython = po.to_numpy(paramsPython)\n",
    "\n",
    "# print(paramsPython.shape)\n",
    "# print(paramsMat.shape)\n",
    "# print(abs(paramsMat-paramsPython))\n",
    "\n",
    "print(paramsMat[1384])\n",
    "print(paramsPython[1384])\n",
    "print(np.where(abs(paramsMat-paramsPython)>30))\n"
   ]
  },
  {
   "cell_type": "code",
   "execution_count": null,
   "metadata": {},
   "outputs": [],
   "source": []
  },
  {
   "cell_type": "code",
   "execution_count": null,
   "metadata": {},
   "outputs": [],
   "source": []
  }
 ],
 "metadata": {
  "kernelspec": {
   "display_name": "Python [conda env:plenoptic_docs] *",
   "language": "python",
   "name": "conda-env-plenoptic_docs-py"
  },
  "language_info": {
   "codemirror_mode": {
    "name": "ipython",
    "version": 3
   },
   "file_extension": ".py",
   "mimetype": "text/x-python",
   "name": "python",
   "nbconvert_exporter": "python",
   "pygments_lexer": "ipython3",
   "version": "3.6.7"
  }
 },
 "nbformat": 4,
 "nbformat_minor": 2
}
