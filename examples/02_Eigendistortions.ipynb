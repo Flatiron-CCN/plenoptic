{
 "cells": [
  {
   "cell_type": "code",
   "execution_count": 1,
   "metadata": {},
   "outputs": [],
   "source": [
    "import matplotlib.pyplot as plt\n",
    "import torch\n",
    "from plenoptic.synthesize.eigendistortion import Eigendistortion\n",
    "from torch import nn\n",
    "from torchvision import models\n",
    "import os.path as op\n",
    "import pyrtools as pt\n",
    "import plenoptic as po"
   ]
  },
  {
   "cell_type": "markdown",
   "metadata": {},
   "source": [
    "# Eigendistortions tutorial\n",
    "\n",
    "**In this tutorial we will cover:**\n",
    "- Theory of eigendistortions\n",
    "- how to use the `plenoptic.synthesize.eigendistortion.Eigendistortion` API\n",
    "- computing eigendistortions using a simple input and linear model\n",
    "- computing extremal eigendistortions for different layers of Vgg16\n",
    "\n",
    "## Introduction\n",
    "How can we assess whether a model sees like we do?\n",
    "One way is to test whether they \"notice\" image distortions the same way as us.\n",
    "If our goal is to create models with human-like vision, then an image distortion that is (not) noticeable to a\n",
    "human should also (not) be noticeable to our models.\n",
    "Eigendistortions provide a framework with which to compare models to human perception of distortions.\n",
    "\n",
    "_Berardino, A., Laparra, V., Ballé, J. and Simoncelli, E., 2017.\n",
    "Eigen-distortions of hierarchical representations.\n",
    "In Advances in neural information processing systems (pp. 3530-3539)._\n",
    "\n",
    "http://www.cns.nyu.edu/pub/lcv/berardino17c-final.pdf\n",
    "\n",
    "http://www.cns.nyu.edu/~lcv/eigendistortions/\n",
    "\n",
    "**See the last section of this notebook for more mathematical detail**\n"
   ]
  },
  {
   "cell_type": "markdown",
   "source": [
    "## Example 1: Linear model, small 1D input \"image\"\n",
    "\n",
    "\n",
    "### 1.1) Creating the model\n",
    "\n",
    "The fundamental goal of computing eigendistortions is to understand how small changes (distortions) in inputs\n",
    "affect model outputs.\n",
    "Any model can be thought of as a black box mapping an input to an output, $f(x): x \\in \\mathbb{R}^n \\mapsto y\n",
    "\\in \\mathbb{R}^m$, i.e. a function takes as input an n-dimensional vector $x$ and outputs an m-dimensional vector $y$.\n",
    "\n",
    "The simplest model that achieves this is linear,\n",
    "\n",
    "\\begin{align}\n",
    "    y &= f(x) = Mx, && \\text{$M\\in \\mathbb{R^{m\\times n}}$}.\n",
    "\\end{align}\n",
    "\n",
    "In this linear case, the Jacobian is fixed $J= \\frac{\\partial f}{\\partial x}=M$ for all possible inputs $x$.\n",
    "Can we _synthesize_ a distortion $\\epsilon$ such that $f(x+\\epsilon)$ is maximally/minimally perturbed from the\n",
    "original $f(x)$? Yes! This would amount to finding the first and last eigenvectors of the Fisher information matrix,\n",
    "i.e. $J^TJ v = \\lambda v$.\n",
    "\n",
    "**A few things to note:**\n",
    "- Input image should always be a 4D tensor whose dimensions `torch.Size([batch=1, channel, height, width])`.\n",
    "    - We don't allow for batch synthesis of eigendistortions so the batch dim should always = 1\n",
    "\n",
    "We'll be working with the `Eigendistortion` object and its instance method, `synthesize()`.\n",
    "\n",
    "Let's make a linear PyTorch model and compute eigendistortions for a given input."
   ],
   "metadata": {
    "collapsed": false,
    "pycharm": {
     "name": "#%% md\n"
    }
   }
  },
  {
   "cell_type": "code",
   "execution_count": 2,
   "metadata": {},
   "outputs": [
    {
     "data": {
      "text/plain": "<Figure size 432x288 with 2 Axes>",
      "image/png": "[encoded data removed]"
     },
     "metadata": {
      "needs_background": "light"
     },
     "output_type": "display_data"
    }
   ],
   "source": [
    "class LinearModel(nn.Module):\n",
    "    \"\"\"The simplest model we can make.\n",
    "    Its Jacobian should be the weight matrix of M, and the eigenvectors of the Fisher matrix are therefore the\n",
    "    eigenvectors of M.T @ M\"\"\"\n",
    "    def __init__(self, n, m):\n",
    "        super(LinearModel, self).__init__()\n",
    "        torch.manual_seed(0)\n",
    "        self.M = nn.Linear(n, m, bias=False)\n",
    "\n",
    "    def forward(self, x):\n",
    "        y = self.M(x)  # this computes y = x @ M.T\n",
    "        return y\n",
    "\n",
    "n = 25  # input vector dim (can you predict what the eigenvec/vals would be when n<m or n=m? Feel free to try!)\n",
    "m = 10  # output vector dim\n",
    "\n",
    "mdl_linear = LinearModel(n, m)\n",
    "\n",
    "x0 = torch.ones((1, 1, 1, n))  # input must betorch.Size([batch=1, n_chan, img_height, img_width])\n",
    "y0 = mdl_linear(x0)\n",
    "\n",
    "fig, ax = plt.subplots(2, 1, sharex='all', sharey='all')\n",
    "ax[0].stem(x0.squeeze(), use_line_collection=True)\n",
    "ax[0].set(title=f'{n:d}D Input')\n",
    "\n",
    "ax[1].stem(y0.squeeze().detach(), use_line_collection=True, markerfmt='C1o')\n",
    "ax[1].set(title=f'{m:d}D Output')\n",
    "fig.tight_layout()"
   ]
  },
  {
   "cell_type": "markdown",
   "source": [
    "## 1.2 - Synthesizing eigendistortions of linear model\n",
    "\n",
    "To compute the eigendistortions of this model, we can instantiate an `Eigendistortion` object with a 4D input image\n",
    "with dims `torch.Size([batch=1, n_channels, img_height, img_width])`, and any PyTorch model with valid\n",
    "`forward` and `backward` methods. After that, we simply call the instance method `synthesize()` and choose the\n",
    "appropriate synthesis method. Normally our input has thousands of entries, but our input in this case is small (only\n",
    "n=25 entries), so we can compute the full $m \\times n$ Jacobian, and all the eigenvectors of the\n",
    "$n \\times n$ Fisher matrix, $F=J^TJ$. The `synthesize` method does this for us and stores the outputs in a dict\n",
    "attribute `distortions` in the object."
   ],
   "metadata": {
    "collapsed": false,
    "pycharm": {
     "name": "#%% md\n"
    }
   }
  },
  {
   "cell_type": "code",
   "execution_count": 3,
   "outputs": [
    {
     "name": "stdout",
     "output_type": "stream",
     "text": [
      "Help on function synthesize in module plenoptic.synthesize.eigendistortion:\n",
      "\n",
      "synthesize(self, method='power', e_vecs=None, tol=1e-10, n_steps=1000, seed=0, verbose=True, print_every=1, debug_A=None)\n",
      "    Compute eigendistortions of Fisher Information Matrix with given input image.\n",
      "    \n",
      "    Parameters\n",
      "    ----------\n",
      "    method: str, optional\n",
      "        Eigensolver method {'jacobian', 'power', 'lanczos'}. Jacobian tries to do eigendecomposition directly (\n",
      "        not recommended for very large matrices). 'power' (default) uses the power method to compute first and\n",
      "        last eigendistortions, with maximum number of iterations dictated by n_steps. 'lanczos' uses the Arnoldi\n",
      "        iteration algorithm to estimate the _entire_ eigenspectrum and thus more than just two eigendistortions,\n",
      "        as opposed to the power method. Note: 'lanczos' method is experimental and may be numerically unstable.\n",
      "        We recommend using the power method.\n",
      "    e_vecs: iterable, optional\n",
      "        Integer list of which eigenvectors to return for ``method='lanczos'``.\n",
      "    tol: float, optional\n",
      "        Tolerance for error criterion in power iteration.\n",
      "    n_steps: int, optional\n",
      "        Total steps to run for ``method='power'`` or ``method='lanczos'`` in eigenvalue computation.\n",
      "    seed: int, optional\n",
      "        Control the random seed for reproducibility.\n",
      "    verbose: bool, optional\n",
      "        Show progress during ``method='power'`` or ``method='lanczos'``.\n",
      "    print_every: int, optional\n",
      "        Prints progress of iterative method after every ``print_every`` steps.\n",
      "    debug_A: torch.Tensor, optional\n",
      "        Explicit Fisher Information Matrix in the form of 2D tensor. Used to debug lanczos algorithm.\n",
      "        Dimensionality must be torch.Size([N, N]) where N is the flattened input size.\n",
      "    \n",
      "    Returns\n",
      "    -------\n",
      "    distortions: dict\n",
      "        Dictionary containing keys {'eigenvalues', 'eigenvectors', 'eigenvector_index'} the eigenvalues and\n",
      "        eigen-distortions in decreasing order and their indices. This dict is also added as an attribute to the\n",
      "        object.\n",
      "\n",
      "Output dim: 10. Input dim: 25\n",
      "Synthesized Eigenvecs, vals, and indices are stored in a dict attribute of the object called distortions dict_keys(['eigenvalues', 'eigenvectors', 'eigenvector_index'])\n",
      "A reference to this dict is also output by the method: dict_keys(['eigenvalues', 'eigenvectors', 'eigenvector_index'])\n"
     ]
    }
   ],
   "source": [
    "help(Eigendistortion.synthesize)  # fully documented\n",
    "\n",
    "eig_jac = Eigendistortion(image=x0, model=mdl_linear)  # instantiate Eigendistortion object using an input and model\n",
    "dist_jac = eig_jac.synthesize(method='jacobian')  # compute the entire Jacobian\n",
    "eigdist_jac = torch.stack(dist_jac['eigenvectors'], dim=1)\n",
    "eigval_jac = dist_jac['eigenvalues']\n",
    "\n",
    "print('Synthesized Eigenvecs, vals, and indices are stored in a dict attribute of the object called distortions',\n",
    "      eig_jac.distortions.keys())\n",
    "\n",
    "print('A reference to this dict is also output by the method:', dist_jac.keys())"
   ],
   "metadata": {
    "collapsed": false,
    "pycharm": {
     "name": "#%%\n"
    }
   }
  },
  {
   "cell_type": "markdown",
   "source": [
    "## 1.3 - Comparing our synthesis to ground-truth\n",
    "\n",
    "The Jacobian is in general a rectangular (not necessarily square) matrix $J\\in \\mathbb{R}^{m\\times n}$. Since this is\n",
    "a linear model, let's check if the computed Jacobian (stored as an attribute in the `Eigendistortion` object) matches\n",
    "the weight matrix $M$.\n",
    "\n",
    "Since the eigendistortions are each 1D (vectors) in this example, we can display them all as an image where each\n",
    "column is an eigendistortion, each pixel is an entry of the eigendistortion, and the intensity is proportional to its\n",
    "value."
   ],
   "metadata": {
    "collapsed": false,
    "pycharm": {
     "name": "#%% md\n"
    }
   }
  },
  {
   "cell_type": "code",
   "execution_count": 4,
   "outputs": [
    {
     "name": "stdout",
     "output_type": "stream",
     "text": [
      "Jacobian == weight matrix M?: True\n"
     ]
    },
    {
     "data": {
      "text/plain": "<Figure size 432x288 with 2 Axes>",
      "image/png": "[encoded data removed]"
     },
     "metadata": {},
     "output_type": "display_data"
    },
    {
     "data": {
      "text/plain": "<Figure size 432x288 with 2 Axes>",
      "image/png": "[encoded data removed]"
     },
     "metadata": {
      "needs_background": "light"
     },
     "output_type": "display_data"
    }
   ],
   "source": [
    "fig, ax = plt.subplots(1, 2, sharex='all', sharey='all')\n",
    "ax[0].imshow(eig_jac.jacobian)\n",
    "ax[1].imshow(mdl_linear.M.weight.data, vmin=eig_jac.jacobian.min(), vmax=eig_jac.jacobian.max())\n",
    "ax[0].set(xticks=[], yticks=[], title='Solved Jacobian')\n",
    "ax[1].set(title='Linear model weight matrix')\n",
    "fig.tight_layout()\n",
    "\n",
    "print(\"Jacobian == weight matrix M?:\", eig_jac.jacobian.allclose(mdl_linear.M.weight.data))\n",
    "\n",
    "# Eigenvectors (aka eigendistortions) and associated eigenvectors are found in the distortions dict attribute\n",
    "fig, ax = plt.subplots(1, 2, sharex='all')\n",
    "ax[0].imshow(eigdist_jac, vmin=-1, vmax=1, cmap='coolwarm')\n",
    "ax[0].set(title='Eigendistortions', xlabel='Eigenvector index', ylabel='Entry')\n",
    "ax[1].plot(eigval_jac, '.')\n",
    "ax[1].set(title='Eigenvalues', xlabel='Eigenvector index', ylabel='Eigenvalue')\n",
    "fig.tight_layout()"
   ],
   "metadata": {
    "collapsed": false,
    "pycharm": {
     "name": "#%%\n"
    }
   }
  },
  {
   "cell_type": "markdown",
   "source": [
    "## 1.4 - What do these eigendistortions _mean_?\n",
    "\n",
    "The first eigenvector (with the largest eigenvalue) is the direction in which we can distort our input $x$ and change\n",
    "the response of the model the _most_, i.e. its most noticeable distortion. For the last eigenvector, since its\n",
    "associated eigenvalue is 0, then _no change in response occurs_ when we distort the input in that direction, i.e.\n",
    "$f(x+\\epsilon)=f(x)$. So this distortion would be _imperceptible_ to the model.\n",
    "\n",
    "In most cases, our input would be much larger. An $n\\times n$ image has $n^2$ entries, meaning the Fisher\n",
    "matrix is $n^2 \\times n^2$, and therefore $n^2$ possible eigendistortions -- certainly too large to store in memory. We\n",
    "need to instead resort to numerical methods to compute the eigendistortions. To do this, we can just set our\n",
    "synthesis `method='power'` to estimate the first eigenvector (most noticeable distortion) and last eigenvector\n",
    "(least noticeable distortion) for the image."
   ],
   "metadata": {
    "collapsed": false,
    "pycharm": {
     "name": "#%% md\n"
    }
   }
  },
  {
   "cell_type": "code",
   "execution_count": 5,
   "outputs": [
    {
     "name": "stdout",
     "output_type": "stream",
     "text": [
      "Output dim: 10. Input dim: 25\n",
      "Power method -- computing the maximum distortion \n",
      "\n",
      "  0 -- deltaLambda: 0.2161\n",
      "\n",
      "Power method -- computing the minimum distortion \n",
      "\n",
      "  0 -- deltaLambda: 0.3651\n",
      " 50 -- deltaLambda: 0.0000\n",
      "100 -- deltaLambda: 0.0015\n",
      "150 -- deltaLambda: 0.0000\n",
      "Indices of computed eigenvectors: [0, 24]\n",
      "\n",
      "Are the first eigendistortions the same? True\n",
      "Are the last eigendistortions the same? False\n"
     ]
    },
    {
     "data": {
      "text/plain": "<Figure size 432x288 with 1 Axes>",
      "image/png": "[encoded data removed]"
     },
     "metadata": {
      "needs_background": "light"
     },
     "output_type": "display_data"
    },
    {
     "data": {
      "text/plain": "<Figure size 576x216 with 2 Axes>",
      "image/png": "[encoded data removed]"
     },
     "metadata": {
      "needs_background": "light"
     },
     "output_type": "display_data"
    },
    {
     "data": {
      "text/plain": "<Figure size 432x288 with 1 Axes>",
      "image/png": "[encoded data removed]"
     },
     "metadata": {
      "needs_background": "light"
     },
     "output_type": "display_data"
    }
   ],
   "source": [
    "eig_pow = Eigendistortion(x0, mdl_linear)\n",
    "eig_pow.synthesize(method='power', n_steps=1000, verbose=True, print_every=50)\n",
    "eigdist_pow = torch.stack(eig_pow.distortions['eigenvectors'], dim=1)\n",
    "eigval_pow = eig_pow.distortions['eigenvalues']\n",
    "eigind_pow = eig_pow.distortions['eigenvector_index']\n",
    "\n",
    "print(f'Indices of computed eigenvectors: {eig_pow.distortions[\"eigenvector_index\"]}\\n')\n",
    "\n",
    "fig, ax = plt.subplots(1,1)\n",
    "ax.plot(eigind_pow, eigval_pow, '.', markersize=15, label='Power')\n",
    "ax.plot(eig_jac.distortions['eigenvalues'], '.-', label='Jacobian')\n",
    "ax.set(title='Power method vs Jacobian')\n",
    "ax.legend(title='Synth. method')\n",
    "\n",
    "fig, ax = plt.subplots(1, 2, sharex='all', sharey='all', figsize=(8,3))\n",
    "ax[0].plot(eigdist_pow[:,0] - eigdist_jac[:,0])\n",
    "ax[0].set(title='Difference in first eigendists')\n",
    "\n",
    "ax[1].stem(eigdist_pow[:,-1] - eigdist_jac[:,-1], use_line_collection=True)\n",
    "ax[1].set(title='Difference in last eigendists')\n",
    "\n",
    "fig, ax = plt.subplots(1,1)\n",
    "ax.stem(eigdist_jac.T @ eigdist_pow[:,-1] , use_line_collection=True)\n",
    "ax.set(title=\"Power method's last eigenvec projected on all Jacobian method's eigenvec\",\n",
    "       xlabel='Eigenvector index', ylabel='Projection')\n",
    "\n",
    "print('Are the first eigendistortions the same?', eigdist_pow[:,0].allclose(eigdist_jac[:,0], atol=1e-3))\n",
    "print('Are the last eigendistortions the same?', eigdist_pow[:,-1].allclose(eigdist_jac[:,-1], atol=1e-3))\n",
    "\n",
    "# find eigendistortions of Jacobian-method whose eigenvalues are zero\n",
    "ind_zero = eig_jac.distortions['eigenvalues'].isclose(torch.zeros(1), atol=1e-4)"
   ],
   "metadata": {
    "collapsed": false,
    "pycharm": {
     "name": "#%%\n"
    }
   }
  },
  {
   "cell_type": "markdown",
   "source": [
    "The power method's first eigendistortion matches the ground-truth first eigendistortion obtained via the Jacobian\n",
    "solve. And while the last eigendistortions don't match, the last power method eigendistortion lies in the span of all\n",
    "the eigendistortions whose eigenvalues are zero. Each of these eigendistortions are equivalent"
   ],
   "metadata": {
    "collapsed": false,
    "pycharm": {
     "name": "#%% md\n"
    }
   }
  },
  {
   "cell_type": "markdown",
   "source": [
    "## 1.5 - The Fisher information matrix is a locally adaptive\n",
    "Different inputs should in general have different sets of eigendistortions -- a noticible distortion in one image\n",
    "would not necessarily be noticeable in a different image. The only case where they should be the same regardless of\n",
    "input is when the model is fully linear, as in this simple example. So let's check if the Jacobian at a different\n",
    "input still equals the weight matrix $M$."
   ],
   "metadata": {
    "collapsed": false,
    "pycharm": {
     "name": "#%% md\n"
    }
   }
  },
  {
   "cell_type": "code",
   "execution_count": 6,
   "outputs": [
    {
     "name": "stdout",
     "output_type": "stream",
     "text": [
      "Output dim: 10. Input dim: 25\n",
      "Does the jacobian at x1 still equal the model weight matrix? True\n"
     ]
    }
   ],
   "source": [
    "x1 = torch.randn_like(x0)  # generate some random input\n",
    "eig_jac2 = Eigendistortion(x1, model=mdl_linear)\n",
    "eig_jac2.synthesize(method='jacobian')  # since the model is linear, the Jacobian should be the exact same as before\n",
    "\n",
    "print(f'Does the jacobian at x1 still equal the model weight matrix?'\n",
    "      f' {eig_jac2.jacobian.allclose(mdl_linear.M.weight.data)}')"
   ],
   "metadata": {
    "collapsed": false,
    "pycharm": {
     "name": "#%%\n"
    }
   }
  },
  {
   "cell_type": "markdown",
   "metadata": {},
   "source": [
    "# Example 2: Which layer of Vgg16 is a better model of human visual distortion perception?\n",
    "\n",
    "Now that we understand what eigendistortions are and how the `Eigendistortion` class works, let's compute them real\n",
    "images using a more complex model like Vgg16. The response vector $y$ doesn't necessarily have to be the output of the\n",
    "last layer of the model; we can also compute Eigendistortions for intermediate model layers too. Let's synthesize\n",
    "distortions for an image using different layers of Vgg16 to see which layer produces extremal eigendistortions that\n",
    "align more with human perception.\n",
    "\n",
    "## 2.1 - Load an example an image"
   ]
  },
  {
   "cell_type": "code",
   "execution_count": 7,
   "outputs": [
    {
     "data": {
      "text/plain": "<PyrFigure size 64x80 with 1 Axes>",
      "image/png": "[encoded data removed]"
     },
     "metadata": {},
     "output_type": "display_data"
    }
   ],
   "source": [
    "# a couple helper functions\n",
    "def to3d(im):\n",
    "    \"\"\"Converts greyscale to RGB where each channel is replicated grey image\"\"\"\n",
    "    return torch.ones(1, 3, *im.shape[-2:]) * im\n",
    "\n",
    "def center_crop(im, n):\n",
    "    \"Crop an nxn image from the center of im\"\n",
    "    assert len(im.shape) == 2\n",
    "    im_height, im_width = im.shape\n",
    "    assert n<im_height//2 and n<im_width//2\n",
    "\n",
    "    im_crop = im[im_height//2-n//2:im_height//2+n//2,\n",
    "              im_width//2-n//2:im_width//2+n//2]\n",
    "    return im_crop\n",
    "\n",
    "n = 64  # this will be the img_height and width of the input, you can change this to accommodate your machine\n",
    "img = plt.imread(op.join('../data', 'einstein.pgm')).copy()\n",
    "\n",
    "# center crop the image to nxn\n",
    "img = center_crop(img, n)\n",
    "\n",
    "img = po.rescale(img)  # rescale to [0, 1]\n",
    "pt.imshow(img)\n",
    "\n",
    "img = torch.tensor(img, dtype=torch.float).reshape(1, 1, *img.shape)\n",
    "img3 = to3d(img)  # Vgg expects 3-channel input, let's just replicate the gray image across RGB channels"
   ],
   "metadata": {
    "collapsed": false,
    "pycharm": {
     "name": "#%%\n"
    }
   }
  },
  {
   "cell_type": "markdown",
   "source": [
    "## 2.2 - Instantiate models and Eigendistortion objects\n",
    "Let's make a wrapper class that can return the nth layer output of vgg. We're going to use this to compare\n",
    "eigendistortions synthesized using different layers of Vgg as models for distortion perception."
   ],
   "metadata": {
    "collapsed": false,
    "pycharm": {
     "name": "#%% md\n"
    }
   }
  },
  {
   "cell_type": "code",
   "execution_count": 8,
   "outputs": [],
   "source": [
    "# Create a class that takes the nth layer output of a given model\n",
    "class NthLayer(torch.nn.Module):\n",
    "    \"\"\"Wrap any model to get the response of an intermediate layer\"\"\"\n",
    "    def __init__(self, model, layer=None):\n",
    "        \"\"\"\n",
    "        Parameters\n",
    "        ----------\n",
    "        model: PyTorch model\n",
    "        layer: int\n",
    "            Which model response layer to output\n",
    "        \"\"\"\n",
    "        super().__init__()\n",
    "        features = list(model.features)\n",
    "        self.features = nn.ModuleList(features).eval()\n",
    "\n",
    "        if layer is None:\n",
    "            layer = len(self.features)\n",
    "        self.layer = layer\n",
    "\n",
    "    def forward(self, x):\n",
    "        for ii, mdl in enumerate(self.features):\n",
    "            x = mdl(x)\n",
    "            if ii == self.layer:\n",
    "                return x\n",
    "\n",
    "\n",
    "# different potential models of human visual perception of distortions\n",
    "vgg16_3 = NthLayer(models.vgg16(pretrained=True), layer=3)\n",
    "vgg16_6 = NthLayer(models.vgg16(pretrained=True), layer=6)\n",
    "\n",
    "ed_vgg3 = Eigendistortion(img3, vgg16_3)\n",
    "ed_vgg6 = Eigendistortion(img3, vgg16_6)"
   ],
   "metadata": {
    "collapsed": false,
    "pycharm": {
     "name": "#%%\n"
    }
   }
  },
  {
   "cell_type": "markdown",
   "source": [
    "## 2.3 - Synthesizing distortions\n",
    "The input dimensionality in this example is huge compared to our linear model example -- it is $(\\text{n_chan} \\times\n",
    "\\text{img_height} \\times \\text{img_width})^2$, meaning the Fisher matrix is too massive to compute exactly. We must\n",
    "turn to iterative methods. Let's synthesize the extremal eigendistortions for this picture of Einstein using the\n",
    "different layers of Vgg16 as defined above."
   ],
   "metadata": {
    "collapsed": false,
    "pycharm": {
     "name": "#%% md\n"
    }
   }
  },
  {
   "cell_type": "code",
   "execution_count": null,
   "outputs": [
    {
     "name": "stdout",
     "output_type": "stream",
     "text": [
      "Output dim: 262144. Input dim: 12288\n",
      "Power method -- computing the maximum distortion \n",
      "\n",
      "  0 -- deltaLambda: 146.0447\n",
      " 50 -- deltaLambda: 0.1354\n",
      "100 -- deltaLambda: 0.0055\n",
      "150 -- deltaLambda: 0.0002\n",
      "\n",
      "Power method -- computing the minimum distortion \n",
      "\n",
      "  0 -- deltaLambda: 222.5382\n",
      " 50 -- deltaLambda: 0.7816\n",
      "100 -- deltaLambda: 0.1897\n",
      "150 -- deltaLambda: 0.0801\n",
      "200 -- deltaLambda: 0.0421\n",
      "250 -- deltaLambda: 0.0256\n"
     ]
    }
   ],
   "source": [
    "ed_vgg3.synthesize(method='power', print_every=50, n_steps=500)\n",
    "ed_vgg6.synthesize(method='power', print_every=50, n_steps=500);"
   ],
   "metadata": {
    "collapsed": false,
    "pycharm": {
     "name": "#%%\n",
     "is_executing": true
    }
   }
  },
  {
   "cell_type": "markdown",
   "source": [
    "## 2.4 - Visualizing eigendistortions\n",
    "Let's display the eigendistortions. `Eigendistortion` has an instance method `display` that will display a 2x3\n",
    "subplot figure of images. The top row shows the original image on the left, the synthesized maximal eigendistortion\n",
    "on the right, and some constsant $\\alpha$ times the eigendistortion added to the image in the middle panel. The\n",
    "bottow row has a similar layout, but displays the minimal eigendistortion. Let's display the eigendistortions for\n",
    "both models."
   ],
   "metadata": {
    "collapsed": false,
    "pycharm": {
     "name": "#%% md\n"
    }
   }
  },
  {
   "cell_type": "code",
   "execution_count": null,
   "outputs": [],
   "source": [
    "alpha = 2  # for displaying (img + alpha*eigendist)\n",
    "beta = 30  # for displaying (beta*eigendist) alone\n",
    "ed_vgg3.display(alpha=alpha, beta=beta, zoom=3)\n",
    "ed_vgg6.display(alpha=alpha, beta=beta, zoom=3)"
   ],
   "metadata": {
    "collapsed": false,
    "pycharm": {
     "name": "#%%\n",
     "is_executing": true
    }
   }
  },
  {
   "cell_type": "markdown",
   "source": [
    "## 2.5 - Which synthesized extremal eigendistortions better characterize human perception?\n",
    "\n",
    "Let's compare eigendistortions within a model first. One thing we immediately notice is that the first\n",
    "eigendistortion (labeled `maxdist`) is indeed more noticeable than `mindist`. `maxdist` is localized to a single\n",
    "portion of the image, and has lower, more prominent spatial frequency content than `mindist`. `mindist` looks more\n",
    "like high frequency noise distributed across the image.\n",
    "\n",
    "But how do the distortions compare between models -- which model better characterizes human visual perception of\n",
    "distortions? The only way to truly this is to run an experiment and ask human observers which distortions are\n",
    "most/least noticeable to them. The best model should produce a maximally noticeable distortion that is more\n",
    "noticeable than other models' maximally noticeable distortions, and its minimally noticeable distortion should be\n",
    "less noticeable than other models' minimally noticeable distortions.\n",
    "\n",
    "See Berardino et al. 2017 for more details.\n",
    "\n",
    "## 2.6 - Synthesizing distortions for other images\n",
    "\n",
    "Remember the Fisher matrix is locally adaptive, meaning that a different image should have a different set of\n",
    "eigendistortions. Let's finish off this notebook with another set of extremal eigendistortions for these two\n",
    "Vgg16 layers on a different image."
   ],
   "metadata": {
    "collapsed": false,
    "pycharm": {
     "name": "#%% md\n"
    }
   }
  },
  {
   "cell_type": "code",
   "execution_count": null,
   "outputs": [],
   "source": [
    "img = plt.imread(op.join('../data', 'curie.pgm')).copy()\n",
    "\n",
    "# center crop the image to nxn\n",
    "img = center_crop(img, n)\n",
    "\n",
    "img = po.rescale(img)  # rescale to [0, 1]\n",
    "pt.imshow(img)\n",
    "\n",
    "img = torch.tensor(img, dtype=torch.float).reshape(1, 1, *img.shape)\n",
    "img3 = to3d(img)  #\n",
    "\n",
    "ed_vgg3 = Eigendistortion(img3, vgg16_3)\n",
    "ed_vgg6 = Eigendistortion(img3, vgg16_6)\n",
    "\n",
    "ed_vgg3.synthesize(method='power', print_every=50, n_steps=500)\n",
    "ed_vgg6.synthesize(method='power', print_every=50, n_steps=500);\n",
    "\n",
    "alpha = 2  # for displaying (img + alpha*eigendist)\n",
    "beta = 30  # for displaying (beta*eigendist) alone\n",
    "ed_vgg3.display(alpha=alpha, beta=beta, zoom=3)\n",
    "ed_vgg6.display(alpha=alpha, beta=beta, zoom=3)"
   ],
   "metadata": {
    "collapsed": false,
    "pycharm": {
     "name": "#%%\n",
     "is_executing": true
    }
   }
  },
  {
   "cell_type": "markdown",
   "source": [
    "# Appendix: More mathematical detail\n",
    "\n",
    "If we have a model that takes an N-dimensional input and outputs an M-dimensional response, then its Jacobian,\n",
    "$J=\\frac{\\partial f}{\\partial x}$, is an $M\\times N$ matrix of partial derivatives that tells us how much a change in\n",
    "each entry of the input would change each entry of the output. With the assumption of additive Gaussian noise in the\n",
    "output space Fisher Information Matrix, $F$, is a symmetric positive semi-definite, $N\\times N$ matrix computed using\n",
    "the Jacobian, $F=J^TJ$. If you are familiar with linear algebra, you might notice that  the eigenvectors of $F$ are\n",
    "the right singular vectors of the Jacobian. Thus, an eigendecomposition $F=V\\Lambda V$ yields directions of the\n",
    "_input space_ (vectors in $V$) along which changes in the _output space_ are rank-ordered by entries in diagonal\n",
    "matrix $\\Lambda$.\n",
    "\n",
    "Given some input image $x_0$, an **eigendistortion** is an additive perturbation, $\\epsilon$, in the _input domain_\n",
    "that changes the response in a model's _output domain_ of interest (e.g. an intermediate layer of a neural net, the\n",
    "output of a nonlinear model, etc.).\n",
    "These perturbations are named _eigendistortions_ because they push $x_0$ along eigenvectors of the Fisher Information Matrix.\n",
    "So we expect distortions $x_0$ along the direction of the eigenvector with the maximum eigenvalue will change the\n",
    "representation the _most_, and distortions along the eigenvector with the minimum eigenvalue will change the\n",
    "representation  the _least_. (And pushing along intermediate eigenvectors will change the representation by an\n",
    "intermediate amount.)"
   ],
   "metadata": {
    "collapsed": false,
    "pycharm": {
     "name": "#%% md\n"
    }
   }
  }
 ],
 "metadata": {
  "kernelspec": {
   "display_name": "Python 3",
   "language": "python",
   "name": "python3"
  },
  "language_info": {
   "codemirror_mode": {
    "name": "ipython",
    "version": 3
   },
   "file_extension": ".py",
   "mimetype": "text/x-python",
   "name": "python",
   "nbconvert_exporter": "python",
   "pygments_lexer": "ipython3",
   "version": "3.8.3"
  }
 },
 "nbformat": 4,
 "nbformat_minor": 4
}