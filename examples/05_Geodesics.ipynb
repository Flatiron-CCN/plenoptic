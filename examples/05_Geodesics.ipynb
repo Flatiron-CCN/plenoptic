{
 "cells": [
  {
   "cell_type": "markdown",
   "metadata": {},
   "source": [
    "# Representational Geodesic"
   ]
  },
  {
   "cell_type": "code",
   "execution_count": 1,
   "metadata": {},
   "outputs": [
    {
     "data": {
      "text/plain": [
       "'1.7.1'"
      ]
     },
     "execution_count": 1,
     "metadata": {},
     "output_type": "execute_result"
    }
   ],
   "source": [
    "import numpy as np\n",
    "import matplotlib.pyplot as plt\n",
    "%matplotlib inline\n",
    "\n",
    "import pyrtools as pt\n",
    "import plenoptic as po\n",
    "from plenoptic.tools import to_numpy\n",
    "%load_ext autoreload\n",
    "%autoreload 2\n",
    "\n",
    "import torch\n",
    "import torch.nn as nn\n",
    "import torchvision\n",
    "import torchvision.transforms as transforms\n",
    "from torchvision import models\n",
    "\n",
    "device = torch.device(\"cuda\" if torch.cuda.is_available() else \"cpu\")\n",
    "dtype  = torch.float32\n",
    "torch.__version__"
   ]
  },
  {
   "cell_type": "markdown",
   "metadata": {},
   "source": [
    "## Translation"
   ]
  },
  {
   "cell_type": "markdown",
   "metadata": {},
   "source": [
    "### Spectral models\n",
    "Computing a geodesic to reveal excess invariance of the global Fourier magnitude representation."
   ]
  },
  {
   "cell_type": "code",
   "execution_count": 2,
   "metadata": {},
   "outputs": [
    {
     "name": "stderr",
     "output_type": "stream",
     "text": [
      "/Users/aldebaran/Documents/plenoptic/plenoptic/tools/data.py:90: FutureWarning: The behavior of rgb2gray will change in scikit-image 0.19. Currently, rgb2gray allows 2D grayscale image to be passed as inputs and leaves them unmodified as outputs. Starting from version 0.19, 2D arrays will be treated as 1D images with 3 channels.\n",
      "  im = color.rgb2gray(im)\n"
     ]
    },
    {
     "name": "stdout",
     "output_type": "stream",
     "text": [
      "Image statistics:\n",
      "  Range: [0.000000, 1.000000]\n",
      "  Mean: 0.460425,  Stdev: 0.175550,  Kurtosis: 3.649574\n",
      "Image statistics:\n",
      "  Range: [0.000000, 0.995128]\n",
      "  Mean: 0.413386,  Stdev: 0.197611,  Kurtosis: 2.456905\n",
      "torch.Size([1, 1, 32, 32])\n",
      "torch.Size([11, 1, 32, 32])\n",
      "(11, 32, 32)\n"
     ]
    },
    {
     "data": {
      "image/png": "[encoded data removed]",
      "text/plain": [
       "<PyrFigure size 1508x160 with 11 Axes>"
      ]
     },
     "metadata": {},
     "output_type": "display_data"
    }
   ],
   "source": [
    "image_size = 64\n",
    "einstein = po.load_images('../data/256/einstein.pgm')\n",
    "einstein = po.tools.conv.blur_downsample(einstein, step=(4,4))\n",
    "vid = po.tools.translation_sequence(einstein[0])\n",
    "from torchvision.transforms.functional import center_crop\n",
    "vid = center_crop(vid, image_size // 2)\n",
    "vid = po.tools.rescale(vid, 0, 1)\n",
    "\n",
    "imgA = vid[0:1]\n",
    "imgB = vid[-1:]\n",
    "\n",
    "pt.image_stats(to_numpy(imgA))\n",
    "pt.image_stats(to_numpy(imgB))\n",
    "print(imgA.shape)\n",
    "print(vid.shape)\n",
    "\n",
    "# convention: full name for numpy arrays, short hands for torch tensors\n",
    "video = to_numpy(vid).squeeze()\n",
    "print(video.shape)\n",
    "# pt.animshow(video, zoom=4)\n",
    "pt.imshow(list(video.squeeze()), zoom=4);"
   ]
  },
  {
   "cell_type": "code",
   "execution_count": 3,
   "metadata": {},
   "outputs": [],
   "source": [
    "import torch.fft\n",
    "class Fourier(nn.Module):\n",
    "    def __init__(self, representation = 'amp'):\n",
    "        super().__init__()\n",
    "        self.representation = representation\n",
    "        \n",
    "    def spectrum(self, x):\n",
    "        return torch.fft.rfftn(x, dim=(2, 3))\n",
    "\n",
    "    def forward(self, x):\n",
    "        if self.representation == 'amp':\n",
    "            return torch.abs(self.spectrum(x))\n",
    "        elif self.representation == 'phase':\n",
    "            return torch.angle(self.spectrum(x))\n",
    "        elif self.representation == 'rectangular':\n",
    "            return self.spectrum(x)\n",
    "        elif self.representation == 'polar':\n",
    "            return torch.cat((torch.abs(self.spectrum(x)),\n",
    "                              torch.angle(self.spectrum(x))),\n",
    "                             dim=1)\n",
    "\n",
    "model = Fourier('amp')\n",
    "# model = Fourier('polar') # note: need pytorch>=1.8 to take gradients through torch.angle "
   ]
  },
  {
   "cell_type": "code",
   "execution_count": 4,
   "metadata": {},
   "outputs": [
    {
     "ename": "ModuleAttributeError",
     "evalue": "'Geodesic' object has no attribute 'initialize'",
     "output_type": "error",
     "traceback": [
      "\u001b[0;31m---------------------------------------------------------------------------\u001b[0m",
      "\u001b[0;31mModuleAttributeError\u001b[0m                      Traceback (most recent call last)",
      "\u001b[0;32m<ipython-input-4-fdd71f50e3c9>\u001b[0m in \u001b[0;36m<module>\u001b[0;34m\u001b[0m\n\u001b[1;32m      1\u001b[0m \u001b[0mn_steps\u001b[0m \u001b[0;34m=\u001b[0m \u001b[0mlen\u001b[0m\u001b[0;34m(\u001b[0m\u001b[0mvideo\u001b[0m\u001b[0;34m)\u001b[0m\u001b[0;34m-\u001b[0m\u001b[0;36m1\u001b[0m\u001b[0;34m\u001b[0m\u001b[0;34m\u001b[0m\u001b[0m\n\u001b[0;32m----> 2\u001b[0;31m \u001b[0mmoog\u001b[0m \u001b[0;34m=\u001b[0m \u001b[0mpo\u001b[0m\u001b[0;34m.\u001b[0m\u001b[0msynth\u001b[0m\u001b[0;34m.\u001b[0m\u001b[0mGeodesic\u001b[0m\u001b[0;34m(\u001b[0m\u001b[0mimgA\u001b[0m\u001b[0;34m,\u001b[0m \u001b[0mimgB\u001b[0m\u001b[0;34m,\u001b[0m \u001b[0mmodel\u001b[0m\u001b[0;34m,\u001b[0m \u001b[0mn_steps\u001b[0m\u001b[0;34m,\u001b[0m \u001b[0minit\u001b[0m\u001b[0;34m=\u001b[0m\u001b[0;34m'bridge'\u001b[0m\u001b[0;34m)\u001b[0m\u001b[0;34m\u001b[0m\u001b[0;34m\u001b[0m\u001b[0m\n\u001b[0m\u001b[1;32m      3\u001b[0m \u001b[0mmoog\u001b[0m\u001b[0;34m.\u001b[0m\u001b[0msynthesize\u001b[0m\u001b[0;34m(\u001b[0m\u001b[0mmax_iter\u001b[0m\u001b[0;34m=\u001b[0m\u001b[0;36m500\u001b[0m\u001b[0;34m,\u001b[0m \u001b[0mlearning_rate\u001b[0m\u001b[0;34m=\u001b[0m\u001b[0;36m.01\u001b[0m\u001b[0;34m,\u001b[0m \u001b[0mlmbda\u001b[0m\u001b[0;34m=\u001b[0m\u001b[0;36m.1\u001b[0m\u001b[0;34m)\u001b[0m\u001b[0;34m\u001b[0m\u001b[0;34m\u001b[0m\u001b[0m\n",
      "\u001b[0;32m~/Documents/plenoptic/plenoptic/synthesize/geodesic.py\u001b[0m in \u001b[0;36m__init__\u001b[0;34m(self, imgA, imgB, model, n_steps, init)\u001b[0m\n\u001b[1;32m     78\u001b[0m         \u001b[0mself\u001b[0m\u001b[0;34m.\u001b[0m\u001b[0mpixelfade\u001b[0m \u001b[0;34m=\u001b[0m \u001b[0mself\u001b[0m\u001b[0;34m.\u001b[0m\u001b[0m_initialize\u001b[0m\u001b[0;34m(\u001b[0m\u001b[0;34m'straight'\u001b[0m\u001b[0;34m,\u001b[0m \u001b[0mimgA\u001b[0m\u001b[0;34m,\u001b[0m \u001b[0mimgB\u001b[0m\u001b[0;34m,\u001b[0m \u001b[0mn_steps\u001b[0m\u001b[0;34m)\u001b[0m\u001b[0;34m\u001b[0m\u001b[0;34m\u001b[0m\u001b[0m\n\u001b[1;32m     79\u001b[0m \u001b[0;34m\u001b[0m\u001b[0m\n\u001b[0;32m---> 80\u001b[0;31m         self.xA, x, self.xB = torch.split(self.initialize(init, imgA, imgB,\n\u001b[0m\u001b[1;32m     81\u001b[0m                                                           \u001b[0mn_steps\u001b[0m\u001b[0;34m)\u001b[0m\u001b[0;34m.\u001b[0m\u001b[0mview\u001b[0m\u001b[0;34m(\u001b[0m\u001b[0;34m\u001b[0m\u001b[0;34m\u001b[0m\u001b[0m\n\u001b[1;32m     82\u001b[0m                                           n_steps+1, torch.numel(imgA[0])),\n",
      "\u001b[0;32m~/anaconda3/envs/atelier/lib/python3.8/site-packages/torch/nn/modules/module.py\u001b[0m in \u001b[0;36m__getattr__\u001b[0;34m(self, name)\u001b[0m\n\u001b[1;32m    776\u001b[0m             \u001b[0;32mif\u001b[0m \u001b[0mname\u001b[0m \u001b[0;32min\u001b[0m \u001b[0mmodules\u001b[0m\u001b[0;34m:\u001b[0m\u001b[0;34m\u001b[0m\u001b[0;34m\u001b[0m\u001b[0m\n\u001b[1;32m    777\u001b[0m                 \u001b[0;32mreturn\u001b[0m \u001b[0mmodules\u001b[0m\u001b[0;34m[\u001b[0m\u001b[0mname\u001b[0m\u001b[0;34m]\u001b[0m\u001b[0;34m\u001b[0m\u001b[0;34m\u001b[0m\u001b[0m\n\u001b[0;32m--> 778\u001b[0;31m         raise ModuleAttributeError(\"'{}' object has no attribute '{}'\".format(\n\u001b[0m\u001b[1;32m    779\u001b[0m             type(self).__name__, name))\n\u001b[1;32m    780\u001b[0m \u001b[0;34m\u001b[0m\u001b[0m\n",
      "\u001b[0;31mModuleAttributeError\u001b[0m: 'Geodesic' object has no attribute 'initialize'"
     ]
    }
   ],
   "source": [
    "n_steps = len(video)-1\n",
    "moog = po.synth.Geodesic(imgA, imgB, model, n_steps, init='bridge')\n",
    "moog.synthesize(max_iter=500, learning_rate=.01, lmbda=.1)"
   ]
  },
  {
   "cell_type": "code",
   "execution_count": null,
   "metadata": {},
   "outputs": [],
   "source": [
    "moog.plot_loss();\n",
    "moog.plot_distance_from_line(vid);"
   ]
  },
  {
   "cell_type": "code",
   "execution_count": null,
   "metadata": {},
   "outputs": [],
   "source": [
    "plt.plot([po.to_numpy(e) for e in moog.step_energy]);\n",
    "plt.plot([e.mean() for e in moog.step_energy], 'r--', label='path energy')\n",
    "plt.legend()\n",
    "plt.title('evolution of representation step energy')\n",
    "plt.ylabel('step energy')\n",
    "plt.xlabel('iteration')\n",
    "plt.yscale('log')\n",
    "plt.show()"
   ]
  },
  {
   "cell_type": "code",
   "execution_count": null,
   "metadata": {},
   "outputs": [],
   "source": [
    "plt.plot([po.to_numpy(j) for j in moog.step_jerkiness]);\n",
    "plt.plot([j.mean() for j in moog.step_jerkiness], 'r--', label='path energy');\n",
    "plt.legend()\n",
    "plt.title('evolution of representation step jerkiness')\n",
    "plt.ylabel('step jerkiness')\n",
    "plt.xlabel('iteration')\n",
    "plt.yscale('log')\n",
    "plt.show()"
   ]
  },
  {
   "cell_type": "code",
   "execution_count": null,
   "metadata": {},
   "outputs": [],
   "source": [
    "try:\n",
    "    moog.animate_distance_from_line(vid).save(\"../logs/distfromline_fourieramp_translation.mp4\")\n",
    "except:\n",
    "    print('generating the animation takes time, there we dont do it by default')\n",
    "    \n",
    "    plt.plot(po.to_numpy(torch.stack(moog.dist_from_line, 0)[:, 1:-1]))\n",
    "\n",
    "    plt.title('evolution of distance from representation line')\n",
    "    plt.ylabel('distance from representation line')\n",
    "    plt.xlabel('iteration step')\n",
    "    # plt.yscale('log')\n",
    "    plt.show()"
   ]
  },
  {
   "cell_type": "code",
   "execution_count": null,
   "metadata": {},
   "outputs": [],
   "source": [
    "pixelfade = to_numpy(moog.pixelfade.squeeze())\n",
    "geodesic = to_numpy(moog.geodesic.squeeze())\n",
    "fig = pt.imshow([video[5], pixelfade[5], geodesic[5]],\n",
    "          title=['video', 'pixelfade', 'geodesic'],\n",
    "          col_wrap=3, zoom=4);\n",
    "\n",
    "size = geodesic.shape[-1]\n",
    "h, m , l = (size//2 + size//4, size//2, size//2 - size//4)\n",
    "\n",
    "# for a in fig.get_axes()[0]:\n",
    "a = fig.get_axes()[0]\n",
    "for line in (h, m, l):\n",
    "    a.axhline(line, lw=2)\n",
    "\n",
    "\n",
    "pt.imshow([video[:,l], pixelfade[:,l], geodesic[:,l]],\n",
    "          title=None, col_wrap=3, zoom=4);\n",
    "pt.imshow([video[:,m], pixelfade[:,m], geodesic[:,m]],\n",
    "          title=None, col_wrap=3, zoom=4);\n",
    "pt.imshow([video[:,h], pixelfade[:,h], geodesic[:,h]],\n",
    "          title=None, col_wrap=3, zoom=4);"
   ]
  },
  {
   "cell_type": "markdown",
   "metadata": {},
   "source": [
    "### Physiologically inspired models"
   ]
  },
  {
   "cell_type": "code",
   "execution_count": null,
   "metadata": {},
   "outputs": [],
   "source": [
    "model = po.simul.FrontEnd()\n",
    "po.imshow(model(imgA), zoom=8);\n",
    "# po.imshow(model.conv.weight, zoom=28, vrange='auto0');"
   ]
  },
  {
   "cell_type": "code",
   "execution_count": null,
   "metadata": {},
   "outputs": [],
   "source": [
    "n_steps = 10\n",
    "\n",
    "moog = po.synth.Geodesic(imgA, imgB, model, n_steps, init='straight')\n",
    "\n",
    "print('shape trainable param', '# trainable param')\n",
    "#  sum(p.numel() for p in moog.parameters())\n",
    "[p.shape for p in moog.parameters() if p.requires_grad], sum(p.numel() for p in moog.parameters() if p.requires_grad)"
   ]
  },
  {
   "cell_type": "code",
   "execution_count": null,
   "metadata": {},
   "outputs": [],
   "source": [
    "try:\n",
    "    from adabelief_pytorch import AdaBelief\n",
    "    import adabelief_pytorch\n",
    "    print(adabelief_pytorch.__version__)\n",
    "    optimizer = AdaBelief(moog.parameters(), lr=0.01, eps=1e-16, betas=(0.9,0.999),\n",
    "                          weight_decouple=True, rectify=False, print_change_log=False)\n",
    "except:\n",
    "    optimizer = torch.optim.RMSprop(moog.parameters(), lr=0.01, alpha=0.99, eps=1e-08,\n",
    "                                weight_decay=0, momentum=0, centered=False)\n",
    "\n",
    "moog.synthesize(optimizer=optimizer, lmbda=0.05)"
   ]
  },
  {
   "cell_type": "code",
   "execution_count": null,
   "metadata": {},
   "outputs": [],
   "source": [
    "# TODO ideas to deal with unstable optimization: running into NaN\n",
    "    # gradient clipping\n",
    "    # control bridge\n",
    "    # init images\n",
    "    # logspace "
   ]
  },
  {
   "cell_type": "code",
   "execution_count": null,
   "metadata": {},
   "outputs": [],
   "source": [
    "moog.plot_loss()\n",
    "moog.plot_distance_from_line(vid);"
   ]
  },
  {
   "cell_type": "code",
   "execution_count": null,
   "metadata": {},
   "outputs": [],
   "source": [
    "try:\n",
    "    moog.animate_distance_from_line(vid).save(\"../logs/distfromline_frontend_translation.mp4\")\n",
    "except:\n",
    "    print('generating the animation takes time, there we dont do it by default')"
   ]
  },
  {
   "cell_type": "code",
   "execution_count": null,
   "metadata": {},
   "outputs": [],
   "source": [
    "plt.plot(po.to_numpy(torch.stack(moog.dist_from_line, 0)[:, 1:-1]))\n",
    "\n",
    "plt.title('evolution of distance from representation line')\n",
    "plt.ylabel('distance from representation line')\n",
    "plt.xlabel('iteration step')\n",
    "plt.yscale('log')\n",
    "plt.show()"
   ]
  },
  {
   "cell_type": "code",
   "execution_count": null,
   "metadata": {},
   "outputs": [],
   "source": [
    "plt.plot([po.to_numpy(e) for e in moog.step_energy]);\n",
    "plt.plot([e.mean() for e in moog.step_energy], 'r--', label='path energy')\n",
    "plt.legend()\n",
    "plt.title('evolution of representation step energy')\n",
    "plt.ylabel('step energy')\n",
    "plt.xlabel('iteration')\n",
    "plt.yscale('log')\n",
    "plt.show()"
   ]
  },
  {
   "cell_type": "code",
   "execution_count": null,
   "metadata": {},
   "outputs": [],
   "source": [
    "plt.plot([po.to_numpy(j) for j in moog.step_jerkiness]);\n",
    "plt.plot([j.mean() for j in moog.step_jerkiness], 'r--', label='path energy');\n",
    "plt.legend()\n",
    "plt.title('evolution of representation step jerkiness')\n",
    "plt.ylabel('step jerkiness')\n",
    "plt.xlabel('iteration')\n",
    "plt.yscale('log')\n",
    "plt.show()"
   ]
  },
  {
   "cell_type": "code",
   "execution_count": null,
   "metadata": {},
   "outputs": [],
   "source": []
  },
  {
   "cell_type": "code",
   "execution_count": null,
   "metadata": {},
   "outputs": [],
   "source": [
    "# pt.imshow(list(moog.yA[0]), col_wrap=4);\n",
    "# pt.imshow(list(moog.yB[0]), col_wrap=4);"
   ]
  },
  {
   "cell_type": "code",
   "execution_count": null,
   "metadata": {},
   "outputs": [],
   "source": [
    "geodesic  = po.to_numpy(moog.geodesic).squeeze()\n",
    "pixelfade = po.to_numpy(moog.pixelfade).squeeze()\n",
    "assert geodesic.shape == pixelfade.shape\n",
    "\n",
    "# checking that the range constraint is met\n",
    "plt.hist(video.flatten(), histtype='step', density=True, label='video')\n",
    "plt.hist(pixelfade.flatten(), histtype='step', density=True, label='pixelfade')\n",
    "plt.hist(geodesic.flatten(), histtype='step', density=True, label='geodesic');\n",
    "plt.yscale('log')\n",
    "plt.title('signal value histogram')\n",
    "plt.legend(loc=1)\n",
    "plt.show()"
   ]
  },
  {
   "cell_type": "code",
   "execution_count": null,
   "metadata": {},
   "outputs": [],
   "source": [
    "print('geodesic')\n",
    "pt.imshow(list(geodesic), vrange='auto1', title=None, zoom=4);\n",
    "print('diff')\n",
    "pt.imshow(list(geodesic - pixelfade), vrange='auto1', title=None, zoom=4);\n",
    "print('pixelfade')\n",
    "pt.imshow(list(pixelfade), vrange='auto1', title=None, zoom=4);"
   ]
  },
  {
   "cell_type": "code",
   "execution_count": null,
   "metadata": {},
   "outputs": [],
   "source": []
  },
  {
   "cell_type": "markdown",
   "metadata": {},
   "source": [
    "## Texture interpolation"
   ]
  },
  {
   "cell_type": "code",
   "execution_count": null,
   "metadata": {},
   "outputs": [],
   "source": [
    "path = '../data/256/'\n",
    "nameA = 'reptil_skin'\n",
    "nameB = 'metal'\n",
    "\n",
    "imageA = plt.imread(path + nameA + '.pgm') / 255.\n",
    "imageB = plt.imread(path + nameB + '.pgm') / 255.\n",
    "\n",
    "c = 64\n",
    "imageA = imageA[c:-c, c:-c]\n",
    "imageB = imageB[c:-c, c:-c]\n",
    "pt.image_stats(imageA)\n",
    "pt.image_stats(imageB)\n",
    "\n",
    "imgSize = imageA.shape[0]\n",
    "pt.imshow([imageA, (imageA + imageB)/2, imageB], vrange='indep1', zoom=2);"
   ]
  },
  {
   "cell_type": "code",
   "execution_count": null,
   "metadata": {},
   "outputs": [],
   "source": [
    "imgA = torch.tensor(imageA, dtype=dtype).unsqueeze(0).unsqueeze(0)\n",
    "imgB = torch.tensor(imageB, dtype=dtype).unsqueeze(0).unsqueeze(0)\n",
    "\n",
    "print(imgA.shape)\n",
    "from plenoptic.tools.straightness import make_straight_line\n",
    "n_steps = 11\n",
    "video = make_straight_line(imgA, imgB, n_steps)\n",
    "print(video.shape)\n",
    "pt.image_stats(po.to_numpy(video).squeeze())\n",
    "pt.animshow(po.to_numpy(video).squeeze(), zoom=2)"
   ]
  },
  {
   "cell_type": "code",
   "execution_count": null,
   "metadata": {},
   "outputs": [],
   "source": [
    "# TODO develop hierarchy of texture models \n",
    "# model = po.simul.Spectral(image_size=imgB.shape[-2:], n_scale='auto')\n",
    "# CoupledSpectrum\n",
    "# PolarPyr\n",
    "# model = po.simul.models.PortillaSimoncelli()\n",
    "# texture statistics\n",
    "\n",
    "# n_steps = len(video)-1\n",
    "# moog = po.synth.Geodesic(imgA, imgB, model, n_steps, init='bridge')\n",
    "# moog.synthesize(max_iter=500, learning_rate=.01, lmbda=.1)"
   ]
  },
  {
   "cell_type": "code",
   "execution_count": null,
   "metadata": {},
   "outputs": [],
   "source": []
  }
 ],
 "metadata": {
  "kernelspec": {
   "display_name": "Python [conda env:atelier] *",
   "language": "python",
   "name": "conda-env-atelier-py"
  },
  "language_info": {
   "codemirror_mode": {
    "name": "ipython",
    "version": 3
   },
   "file_extension": ".py",
   "mimetype": "text/x-python",
   "name": "python",
   "nbconvert_exporter": "python",
   "pygments_lexer": "ipython3",
   "version": "3.8.5"
  },
  "toc-autonumbering": true,
  "toc-showtags": true
 },
 "nbformat": 4,
 "nbformat_minor": 4
}
