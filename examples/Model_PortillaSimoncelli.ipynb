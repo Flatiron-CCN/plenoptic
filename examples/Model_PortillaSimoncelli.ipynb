{
 "cells": [
  {
   "cell_type": "code",
   "execution_count": 1,
   "metadata": {},
   "outputs": [],
   "source": [
    "import numpy as np\n",
    "import matplotlib\n",
    "import matplotlib.pyplot as plt\n",
    "import torch\n",
    "import pyrtools as pt\n",
    "import plenoptic as po\n",
    "import scipy.io as sio\n",
    "import os\n",
    "import os.path as op\n",
    "import glob\n",
    "from tqdm import tqdm\n",
    "from PIL import Image\n",
    "directory = '/Users/kathrynbonnen/Dropbox/NYU/Texture2018/imageLibraries/cropped512-gray-jpg/'\n",
    "%load_ext autoreload\n",
    "%autoreload 2\n",
    "%load_ext line_profiler\n",
    "%load_ext heat\n",
    "\n",
    " \n",
    "def ls(directory):\n",
    "    return [os.path.join(directory, file) for file in glob.glob(f'{directory}*.jpg')]\n",
    "\n",
    "torch.__version__\n",
    "numpy = lambda x: x.detach().cpu().numpy().squeeze()\n",
    "device = torch.device(\"cuda\" if torch.cuda.is_available() else \"cpu\")"
   ]
  },
  {
   "cell_type": "code",
   "execution_count": 19,
   "metadata": {},
   "outputs": [
    {
     "name": "stderr",
     "output_type": "stream",
     "text": [
      "100%|██████████| 10/10 [00:11<00:00,  1.11s/it, current_scale=residual_lowpass, current_scale_loss=7.42, gradient_norm=5.2105e-01, learning_rate=0.01, loss=6.6867e+00, pixel_change=1.0036e-02]\n"
     ]
    }
   ],
   "source": [
    "n = 256\n",
    "torch.set_default_dtype(torch.float64)       \n",
    "im = po.load_images(directory+'DSCF9576.jpg') # 5DmkII_3874.jpg  10D_2988_2.jpg\n",
    "m1 = im.mean().detach().numpy()-.05\n",
    "m2 = im.mean().detach().numpy()+.05\n",
    "initial_image = np.random.rand(n,n)*(m2-m1) + m1\n",
    "model = po.simul.PortillaSimoncelli([n,n],n_scales=4, n_orientations=4, spatial_corr_width=9,use_true_correlations=True)       \n",
    "\n",
    "met = po.synth.Metamer(im[0,0,:n,:n], model)\n",
    "\n",
    "o=met.synthesize(learning_rate=.01,seed=1,\n",
    "    loss_change_thresh=None,loss_change_iter=7,max_iter=10,coarse_to_fine='together',\n",
    "    optimizer='Adam',initial_image = initial_image, store_progress=True)\n",
    "# m=met.synthesize(learning_rate=.001,seed=1,\n",
    "#     max_iter=1000,\n",
    "#     optimizer='Adam',clamper=None,initial_image = m[0], store_progress=True)\n",
    "\n",
    "\n",
    "\n"
   ]
  },
  {
   "cell_type": "code",
   "execution_count": 7,
   "metadata": {},
   "outputs": [
    {
     "name": "stderr",
     "output_type": "stream",
     "text": [
      "100%|██████████| 10/10 [00:12<00:00,  1.20s/it, current_scale=residual_lowpass, current_scale_loss=11.8, gradient_norm=9.2990e-01, learning_rate=0.01, loss=1.0136e+01, pixel_change=1.0036e-02]\n"
     ]
    }
   ],
   "source": [
    "n = 256\n",
    "torch.set_default_dtype(torch.float64)       \n",
    "im = po.load_images(directory+'DSCF9576.jpg') # 5DmkII_3874.jpg  10D_2988_2.jpg\n",
    "model = po.simul.PortillaSimoncelli([n,n],n_scales=4, n_orientations=4, spatial_corr_width=9,use_true_correlations=True)       \n",
    "\n",
    "met = po.synth.Metamer(im[0,0,:n,:n], model)\n",
    "\n",
    "o2=met.synthesize(learning_rate=.01,seed=1,\n",
    "    loss_change_thresh=None,loss_change_iter=3,max_iter=20,coarse_to_fine='together',\n",
    "    optimizer='Adam',initial_image = initial_image, store_progress=True)"
   ]
  },
  {
   "cell_type": "code",
   "execution_count": 20,
   "metadata": {},
   "outputs": [],
   "source": [
    "np.max(np.abs(o[0].detach().numpy()-o2[0].detach().numpy()))\n",
    "\n",
    "\n",
    "# # fig,axes = model.plot_representation()\n",
    "# # model.update_plot(axes,0,model.representation)\n",
    "# # met.plot_synthesis_status();\n",
    "# # anim = met.animate()\n",
    "# # po.convert_anim_to_html(anim)\n",
    "# # # tmp.savefig('tmp.jpg')\n",
    "\n",
    "with open('../data/portilla_simoncelli_synthesize.npy', 'wb') as f:\n",
    "    np.save(f, np.array(im[0,0,:256,:256]))\n",
    "    np.save(f, initial_image)\n",
    "    np.save(f, np.array(o[0]))\n",
    "    np.save(f, np.array(o[1]))\n"
   ]
  },
  {
   "cell_type": "code",
   "execution_count": 57,
   "metadata": {},
   "outputs": [
    {
     "name": "stdout",
     "output_type": "stream",
     "text": [
      "(256, 256)\n"
     ]
    }
   ],
   "source": [
    "with open('../data/portilla_simoncelli_synthesize.npy', 'rb') as f:\n",
    "    a = np.load(f).squeeze()\n",
    "    b = np.load(f).squeeze()\n",
    "\n",
    "print(a.shape)\n"
   ]
  },
  {
   "cell_type": "code",
   "execution_count": 25,
   "metadata": {},
   "outputs": [],
   "source": [
    "# COMPARISON between models\n",
    "\n",
    "# function to to load files\n",
    "def load_images(files,n):\n",
    "    ims = torch.zeros(len(files),1,n,n)\n",
    "    \n",
    "    for ii,f in enumerate(files):\n",
    "        im = po.load_images(f)\n",
    "        ims[ii,0,:,:] = im[0,0,:n,:n]\n",
    "    return ims\n",
    "\n",
    "def run_portilla_simoncelli(ims):\n",
    "    n = ims.shape[3]\n",
    "    y_python = torch.zeros(ims.shape[0],1,2461)\n",
    "    model_python = po.simul.Portilla_Simoncelli([n,n],n_scales=4, n_orientations=4, spatial_corr_width=9,use_true_correlations=True)\n",
    "    \n",
    "    y_matlab = torch.zeros(ims.shape[0],1,2456)\n",
    "    model_matlab = po.simul.Portilla_Simoncelli([n,n],n_scales=4, n_orientations=4, spatial_corr_width=9,use_true_correlations=False)\n",
    "\n",
    "    for ii in tqdm(range(0,ims.shape[0])):\n",
    "        y_python[ii,0,:] = model_python(ims[ii,0,:,:])\n",
    "        y_matlab[ii,0,:] = model_matlab(ims[ii,0,:,:])\n",
    "    \n",
    "    return y_python, y_matlab\n",
    "\n",
    "def compute_loss(y1,y2):\n",
    "    \n",
    "    return torch.norm(y1.squeeze()-y2.squeeze(),p=2,dim=1)/torch.norm(y2.squeeze(),p=2,dim=1)\n"
   ]
  },
  {
   "cell_type": "code",
   "execution_count": 8,
   "metadata": {},
   "outputs": [],
   "source": [
    "# n = 256;\n",
    "# # Load original images\n",
    "# files = ls(directory)\n",
    "# originals = load_images(files,n)\n",
    "\n",
    "# # Load MATLAB images\n",
    "# matlab_dir = '/Users/kathrynbonnen/Documents/ps-samples-256/matlab/'\n",
    "# matlab_files = [glob.glob(matlab_dir + ff.split('/')[-1].split('.')[0] + '*')[0] for ff in files]\n",
    "# matlab = load_images(matlab_files,n)\n",
    "\n",
    "# # Load python images\n",
    "# python_dir = '/Users/kathrynbonnen/Documents/ps-samples-256/python/'\n",
    "# python_files = [glob.glob(python_dir + 'full_range' + ff.split('/')[-1].split('.')[0] + '*')[0] for ff in files]\n",
    "# python = load_images(python_files,n)\n",
    "\n",
    "# Load python low noise images\n",
    "python_dir = '/Users/kathrynbonnen/Documents/ps-samples-256/python/'\n",
    "python_files = [glob.glob(python_dir + 'low_noise_' + ff.split('/')[-1].split('.')[0] + '*')[0] for ff in files]\n",
    "python_low = load_images(python_files,n)\n"
   ]
  },
  {
   "cell_type": "code",
   "execution_count": 10,
   "metadata": {},
   "outputs": [
    {
     "name": "stderr",
     "output_type": "stream",
     "text": [
      "100%|██████████| 787/787 [03:22<00:00,  3.88it/s]\n"
     ]
    }
   ],
   "source": [
    "# y_orig_python, y_orig_matlab = run_portilla_simoncelli(originals)\n",
    "# y_mat_python, y_mat_matlab = run_portilla_simoncelli(matlab)\n",
    "# y_py_python, y_py_matlab = run_portilla_simoncelli(python)\n",
    "y_pyl_python, y_pyl_matlab = run_portilla_simoncelli(python_low)\n"
   ]
  },
  {
   "cell_type": "code",
   "execution_count": 11,
   "metadata": {},
   "outputs": [],
   "source": [
    "mat_loss_python = compute_loss(y_mat_python,y_orig_python).detach()\n",
    "mat_loss_matlab = compute_loss(y_mat_matlab,y_orig_matlab).detach()\n",
    "\n",
    "# py_loss_python = compute_loss(y_py_python,y_orig_python).detach()\n",
    "# py_loss_matlab = compute_loss(y_py_matlab,y_orig_matlab).detach()\n",
    "\n",
    "pyl_loss_python = compute_loss(y_pyl_python,y_orig_python).detach()\n",
    "pyl_loss_matlab = compute_loss(y_pyl_matlab,y_orig_matlab).detach()"
   ]
  },
  {
   "cell_type": "code",
   "execution_count": 13,
   "metadata": {},
   "outputs": [
    {
     "data": {
      "image/png": "[encoded data removed]",
      "text/plain": [
       "<Figure size 432x288 with 4 Axes>"
      ]
     },
     "metadata": {
      "needs_background": "light"
     },
     "output_type": "display_data"
    }
   ],
   "source": [
    "fig, ax = plt.subplots(2,2)\n",
    "ref = [.001,1]\n",
    "ax[0,0].plot(mat_loss_python,pyl_loss_python,'.')\n",
    "ax[0,0].plot(ref,ref)\n",
    "ax[0,0].set(yscale='log', xscale='log',ylabel='python optimization loss',\n",
    "         title='normalized/full-range')\n",
    "\n",
    "# ax[0,1].plot(mat_loss_matlab,py_loss_matlab,'.')\n",
    "# ax[0,1].plot([10,10**4],[10,10**4])\n",
    "# ax[0,1].set(yscale='log', xscale='log', title='un-normalized/full-range')\n",
    "\n",
    "ax[1,0].plot(mat_loss_python,pyl_loss_python,'.')\n",
    "ax[1,0].plot(ref,ref)\n",
    "ax[1,0].set(yscale='log', xscale='log', xlabel='matlab optimization loss',\n",
    "            ylabel='python optimization loss',title='normalized/low-noise')\n",
    "\n",
    "# ax[1,1].plot(mat_loss_matlab,pyl_loss_matlab,'.')\n",
    "# ax[1,1].plot([10,10**4],[10,10**4])\n",
    "# ax[1,1].set(yscale='log', xscale='log', xlabel='matlab optimization loss',title='un-normalized/low-noise')\n",
    "fig.tight_layout()\n",
    "plt.show()"
   ]
  },
  {
   "cell_type": "code",
   "execution_count": null,
   "metadata": {},
   "outputs": [],
   "source": [
    "print((mat_loss_python>py_loss_python).sum()/787,\n",
    "(mat_loss_python>pyl_loss_python).sum()/787)"
   ]
  },
  {
   "cell_type": "code",
   "execution_count": 21,
   "metadata": {},
   "outputs": [
    {
     "data": {
      "image/png": "[encoded data removed]",
      "text/plain": [
       "<Figure size 432x288 with 1 Axes>"
      ]
     },
     "metadata": {
      "needs_background": "light"
     },
     "output_type": "display_data"
    }
   ],
   "source": [
    "fig, ax = plt.subplots(1,1)\n",
    "ax.plot(mat_loss_python,pyl_loss_python,'.')\n",
    "ax.plot(ref,ref)\n",
    "ax.set(yscale='log', xscale='log', xlabel='matlab optimization loss',\n",
    "            ylabel='plenoptic optimization loss')\n",
    "ax.set_aspect('equal', adjustable='box')\n",
    "\n"
   ]
  },
  {
   "cell_type": "code",
   "execution_count": null,
   "metadata": {},
   "outputs": [],
   "source": []
  }
 ],
 "metadata": {
  "kernelspec": {
   "display_name": "Python [conda env:plenoptic] *",
   "language": "python",
   "name": "conda-env-plenoptic-py"
  },
  "language_info": {
   "codemirror_mode": {
    "name": "ipython",
    "version": 3
   },
   "file_extension": ".py",
   "mimetype": "text/x-python",
   "name": "python",
   "nbconvert_exporter": "python",
   "pygments_lexer": "ipython3",
   "version": "3.7.9"
  }
 },
 "nbformat": 4,
 "nbformat_minor": 4
}
