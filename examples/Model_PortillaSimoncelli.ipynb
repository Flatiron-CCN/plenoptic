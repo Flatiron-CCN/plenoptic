{
 "cells": [
  {
   "cell_type": "code",
   "execution_count": 13,
   "metadata": {},
   "outputs": [],
   "source": [
    "import numpy as np\n",
    "import matplotlib\n",
    "import matplotlib.pyplot as plt\n",
    "import torch\n",
    "import pyrtools as pt\n",
    "import plenoptic as po\n",
    "import scipy.io as sio\n",
    "import os.path as op\n",
    "\n",
    "torch.__version__\n",
    "numpy = lambda x: x.detach().cpu().numpy().squeeze()\n",
    "device = torch.device(\"cuda\" if torch.cuda.is_available() else \"cpu\")"
   ]
  },
  {
   "cell_type": "code",
   "execution_count": null,
   "metadata": {},
   "outputs": [],
   "source": []
  },
  {
   "cell_type": "code",
   "execution_count": 4,
   "metadata": {},
   "outputs": [],
   "source": [
    "model = po.simul.Portilla_Simoncelli([256,256],n_scales=2, n_orientations=2, Na=9,)\n",
    "image = plt.imread('../data/nuts.pgm').astype(float)/255.\n",
    "im0 = torch.tensor(image, requires_grad=True, dtype = torch.float32).squeeze().unsqueeze(0).unsqueeze(0)\n",
    "y = model.forward(im0)\n",
    "\n",
    "\n"
   ]
  },
  {
   "cell_type": "code",
   "execution_count": 3,
   "metadata": {},
   "outputs": [
    {
     "name": "stdout",
     "output_type": "stream",
     "text": [
      "torch.Size([1, 1, 10, 10])\n",
      "torch.return_types.min(\n",
      "values=tensor([[[1.0000, 0.9843, 0.9529, 0.7961, 0.5255, 0.5725, 0.5804, 0.4510,\n",
      "          0.4196, 0.3412]]], grad_fn=<MinBackward0>),\n",
      "indices=tensor([[[0, 2, 2, 0, 0, 0, 1, 2, 3, 4]]]))\n",
      "torch.Size([1, 1, 10])\n"
     ]
    }
   ],
   "source": [
    "tmp = im0[:,:,0:10,0:10]\n",
    "print(tmp.shape)\n",
    "a = torch.min(tmp,dim=2)\n",
    "print(a)\n",
    "print(a.values.shape)"
   ]
  },
  {
   "cell_type": "code",
   "execution_count": 3,
   "metadata": {},
   "outputs": [],
   "source": [
    "s = sio.loadmat('/Users/kathrynbonnen/Documents/MATLAB/textureSynth/pythonTestVectors/curie-scales4-ori4-spat9.mat')"
   ]
  },
  {
   "cell_type": "code",
   "execution_count": 11,
   "metadata": {},
   "outputs": [
    {
     "name": "stdout",
     "output_type": "stream",
     "text": [
      "(2456, 1)\n"
     ]
    }
   ],
   "source": [
    "print(s['params_vector'].shape)"
   ]
  },
  {
   "cell_type": "code",
   "execution_count": 14,
   "metadata": {},
   "outputs": [
    {
     "name": "stderr",
     "output_type": "stream",
     "text": [
      "/Users/kathrynbonnen/anaconda3/envs/plenoptic/lib/python3.7/site-packages/ipykernel_launcher.py:10: UserWarning: The given NumPy array is not writeable, and PyTorch does not support non-writeable tensors. This means you can write to the underlying (supposedly non-writeable) NumPy array using the tensor. You may want to copy the array to protect its data or make it writeable before converting it to a tensor. This type of warning will be suppressed for the rest of this program. (Triggered internally at  ../torch/csrc/utils/tensor_numpy.cpp:141.)\n",
      "  # Remove the CWD from sys.path while we load stuff.\n"
     ]
    }
   ],
   "source": [
    "im = 'curie'\n",
    "DATA_DIR = '../data'\n",
    "n_scales = 4\n",
    "n_orientations=4\n",
    "Na = 9\n",
    "\n",
    "\n",
    "torch.set_default_dtype(torch.float64)\n",
    "x = plt.imread(op.join(DATA_DIR, f'{im}.pgm'))\n",
    "im0 = torch.Tensor(x).unsqueeze(0).unsqueeze(0)\n",
    "spc = po.simul.Portilla_Simoncelli(x.shape[-2:], n_scales = n_scales, n_orientations = n_orientations,Na=Na)\n",
    "python_vector = spc(im0)\n",
    "\n",
    "matlab = sio.loadmat('/Users/kathrynbonnen/Documents/MATLAB/textureSynth/pythonTestVectors/curie-scales4-ori4-spat9.mat')\n",
    "matlab_vector = matlab['params_vector'].flatten()\n",
    "\n",
    "np.testing.assert_allclose(python_vector[:], matlab_vector[:], rtol=1e-5, atol=1e-5)\n",
    "\n"
   ]
  },
  {
   "cell_type": "code",
   "execution_count": 19,
   "metadata": {},
   "outputs": [
    {
     "ename": "AttributeError",
     "evalue": "'numpy.ndarray' object has no attribute 'type'",
     "output_type": "error",
     "traceback": [
      "\u001b[0;31m---------------------------------------------------------------------------\u001b[0m",
      "\u001b[0;31mAttributeError\u001b[0m                            Traceback (most recent call last)",
      "\u001b[0;32m<ipython-input-19-9672b172c58c>\u001b[0m in \u001b[0;36m<module>\u001b[0;34m\u001b[0m\n\u001b[0;32m----> 1\u001b[0;31m \u001b[0mprint\u001b[0m\u001b[0;34m(\u001b[0m\u001b[0mx\u001b[0m\u001b[0;34m.\u001b[0m\u001b[0mtype\u001b[0m\u001b[0;34m(\u001b[0m\u001b[0;34m)\u001b[0m\u001b[0;34m)\u001b[0m\u001b[0;34m\u001b[0m\u001b[0m\n\u001b[0m",
      "\u001b[0;31mAttributeError\u001b[0m: 'numpy.ndarray' object has no attribute 'type'"
     ]
    }
   ],
   "source": []
  },
  {
   "cell_type": "code",
   "execution_count": null,
   "metadata": {},
   "outputs": [],
   "source": []
  }
 ],
 "metadata": {
  "kernelspec": {
   "display_name": "Python [conda env:plenoptic] *",
   "language": "python",
   "name": "conda-env-plenoptic-py"
  },
  "language_info": {
   "codemirror_mode": {
    "name": "ipython",
    "version": 3
   },
   "file_extension": ".py",
   "mimetype": "text/x-python",
   "name": "python",
   "nbconvert_exporter": "python",
   "pygments_lexer": "ipython3",
   "version": "3.7.0"
  }
 },
 "nbformat": 4,
 "nbformat_minor": 4
}
