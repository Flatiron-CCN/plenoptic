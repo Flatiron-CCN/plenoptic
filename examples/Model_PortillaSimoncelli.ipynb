{
 "cells": [
  {
   "cell_type": "code",
   "execution_count": 2,
   "metadata": {},
   "outputs": [],
   "source": [
    "import numpy as np\n",
    "import matplotlib\n",
    "import matplotlib.pyplot as plt\n",
    "import torch\n",
    "import pyrtools as pt\n",
    "import plenoptic as po\n",
    "import scipy.io as sio\n",
    "\n",
    "\n",
    "torch.__version__\n",
    "numpy = lambda x: x.detach().cpu().numpy().squeeze()\n",
    "device = torch.device(\"cuda\" if torch.cuda.is_available() else \"cpu\")"
   ]
  },
  {
   "cell_type": "code",
   "execution_count": 4,
   "metadata": {},
   "outputs": [],
   "source": [
    "model = po.simul.Portilla_Simoncelli([256,256],n_scales=2, n_orientations=2, Na=9,)\n",
    "image = plt.imread('../data/nuts.pgm').astype(float)/255.\n",
    "im0 = torch.tensor(image, requires_grad=True, dtype = torch.float32).squeeze().unsqueeze(0).unsqueeze(0)\n",
    "y = model.forward(im0)\n",
    "\n"
   ]
  },
  {
   "cell_type": "code",
   "execution_count": 3,
   "metadata": {},
   "outputs": [
    {
     "name": "stdout",
     "output_type": "stream",
     "text": [
      "torch.Size([1, 1, 10, 10])\n",
      "torch.return_types.min(\n",
      "values=tensor([[[1.0000, 0.9843, 0.9529, 0.7961, 0.5255, 0.5725, 0.5804, 0.4510,\n",
      "          0.4196, 0.3412]]], grad_fn=<MinBackward0>),\n",
      "indices=tensor([[[0, 2, 2, 0, 0, 0, 1, 2, 3, 4]]]))\n",
      "torch.Size([1, 1, 10])\n"
     ]
    }
   ],
   "source": [
    "tmp = im0[:,:,0:10,0:10]\n",
    "print(tmp.shape)\n",
    "a = torch.min(tmp,dim=2)\n",
    "print(a)\n",
    "print(a.values.shape)"
   ]
  },
  {
   "cell_type": "code",
   "execution_count": null,
   "metadata": {},
   "outputs": [],
   "source": []
  },
  {
   "cell_type": "code",
   "execution_count": null,
   "metadata": {},
   "outputs": [],
   "source": []
  },
  {
   "cell_type": "code",
   "execution_count": null,
   "metadata": {},
   "outputs": [],
   "source": []
  }
 ],
 "metadata": {
  "kernelspec": {
   "display_name": "Python [conda env:plenoptic] *",
   "language": "python",
   "name": "conda-env-plenoptic-py"
  },
  "language_info": {
   "codemirror_mode": {
    "name": "ipython",
    "version": 3
   },
   "file_extension": ".py",
   "mimetype": "text/x-python",
   "name": "python",
   "nbconvert_exporter": "python",
   "pygments_lexer": "ipython3",
   "version": "3.7.0"
  }
 },
 "nbformat": 4,
 "nbformat_minor": 4
}
